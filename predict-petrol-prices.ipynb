{
 "cells": [
  {
   "cell_type": "markdown",
   "metadata": {
    "colab_type": "text",
    "id": "G3nx18PBGTtW"
   },
   "source": [
    "Let us consider a dataset where we have petrol prices in Delhi for last 15 years"
   ]
  },
  {
   "cell_type": "markdown",
   "metadata": {
    "colab_type": "text",
    "id": "KSQJIUlDGTtX"
   },
   "source": [
    "| Year | Petrol Price/litre |\n",
    "| ---- | ------------------ |\n",
    "| 2003 | 33.49 |\n",
    "| 2004 | 35.71 |\n",
    "| 2005 | 37.99 |\n",
    "| 2006 | 43.50 |\n",
    "| 2007 | 43.00 |\n",
    "| 2008 | 45.50 |\n",
    "| 2009 | 44.70 |\n",
    "| 2010 | 48.00 |\n",
    "| 2011 | 58.50 |\n",
    "| 2012 | 65.60 |\n",
    "| 2013 | 66.09 |\n",
    "| 2014 | 72.26 |\n",
    "| 2015 | 60.49 |\n",
    "| 2016 | 62.51 |\n",
    "| 2017 | 63.09 |\n",
    "| 2018 | 75.97 |"
   ]
  },
  {
   "cell_type": "code",
   "execution_count": 1,
   "metadata": {
    "colab": {},
    "colab_type": "code",
    "id": "fR_1WrGTGTtY"
   },
   "outputs": [],
   "source": [
    "import numpy as np \n",
    "import matplotlib.pyplot as plt"
   ]
  },
  {
   "cell_type": "markdown",
   "metadata": {
    "colab_type": "text",
    "id": "1spmwmQoGTtd"
   },
   "source": [
    "For generality, we define:<br>\n",
    "\n",
    "Year as feature vector, i.e x = [2003, 2009, …., 2018],<br>\n",
    "\n",
    "Price as response vector, i.e y = [33.49, 35.71, …., 75.97]<br>\n"
   ]
  },
  {
   "cell_type": "code",
   "execution_count": 2,
   "metadata": {
    "colab": {},
    "colab_type": "code",
    "id": "MN8oexB3GTte"
   },
   "outputs": [],
   "source": [
    "x = np.array([2003, 2004, 2005, 2006, 2007, 2008, 2009, 2010, 2011, 2012, 2013, 2014, 2015, 2016, 2017, 2018]) \n",
    "y = np.array([33.49, 35.71, 37.99, 43.50, 43.00, 45.50, 44.70, 48.00, 58.50, 65.60, 66.09, 72.26, 60.49, 62.51, 63.09, 75.97])"
   ]
  },
  {
   "cell_type": "code",
   "execution_count": 3,
   "metadata": {
    "colab": {},
    "colab_type": "code",
    "id": "TXSpSw2fGTth"
   },
   "outputs": [],
   "source": [
    "def estimate_coef(x, y): \n",
    "    # number of observations/points \n",
    "    n = np.size(x) \n",
    "  \n",
    "    # mean of x and y vector \n",
    "    m_x, m_y = np.mean(x), np.mean(y) \n",
    "  \n",
    "    # calculating cross-deviation and deviation about x \n",
    "    SS_xy = np.sum(y*x) - n*m_y*m_x \n",
    "    SS_xx = np.sum(x*x) - n*m_x*m_x \n",
    "  \n",
    "    # calculating regression coefficients \n",
    "    b_1 = SS_xy / SS_xx \n",
    "    b_0 = m_y - b_1*m_x \n",
    "  \n",
    "    return(b_0, b_1) "
   ]
  },
  {
   "cell_type": "code",
   "execution_count": 4,
   "metadata": {
    "colab": {
     "base_uri": "https://localhost:8080/",
     "height": 70
    },
    "colab_type": "code",
    "executionInfo": {
     "elapsed": 1659,
     "status": "ok",
     "timestamp": 1558095778350,
     "user": {
      "displayName": "Ravi Teja",
      "photoUrl": "https://lh5.googleusercontent.com/-PZd4P_u8twU/AAAAAAAAAAI/AAAAAAAAAgg/3bcf7b95fH0/s64/photo.jpg",
      "userId": "10913218458194438742"
     },
     "user_tz": -330
    },
    "id": "YmY6qe3lGTtk",
    "outputId": "e7bb97e5-dd41-44f5-e039-dc6e4021be03"
   },
   "outputs": [
    {
     "name": "stdout",
     "output_type": "stream",
     "text": [
      "Estimated coefficients:\n",
      "b_0 = -5258.748191175755   \n",
      "b_1 = 2.642264705881997\n"
     ]
    }
   ],
   "source": [
    "b = estimate_coef(x, y) \n",
    "print(\"Estimated coefficients:\\nb_0 = {}   \\nb_1 = {}\".format(b[0], b[1])) "
   ]
  },
  {
   "cell_type": "markdown",
   "metadata": {
    "colab_type": "text",
    "id": "Kap84lvUGTtn"
   },
   "source": [
    "for n observations (in above example, n=15).<br>\n",
    "\n",
    "A scatter plot of above dataset looks like:-"
   ]
  },
  {
   "cell_type": "code",
   "execution_count": 5,
   "metadata": {
    "colab": {},
    "colab_type": "code",
    "id": "Rc8H6c0QGTto"
   },
   "outputs": [],
   "source": [
    "def plot_regression_line(x, y, b): \n",
    "    # plotting the actual points as scatter plot \n",
    "    plt.scatter(x, y, color = \"m\", \n",
    "               marker = \"o\", s = 30) \n",
    "  \n",
    "    # predicted response vector \n",
    "    y_pred = b[0] + b[1]*x \n",
    "  \n",
    "    # plotting the regression line \n",
    "    plt.plot(x, y_pred, color = \"g\") \n",
    "  \n",
    "    # putting labels \n",
    "    plt.xlabel('Year') \n",
    "    plt.ylabel('Price/Liter') \n",
    "  \n",
    "    # function to show plot \n",
    "    plt.show() "
   ]
  },
  {
   "cell_type": "code",
   "execution_count": 6,
   "metadata": {
    "colab": {
     "base_uri": "https://localhost:8080/",
     "height": 283
    },
    "colab_type": "code",
    "executionInfo": {
     "elapsed": 2363,
     "status": "ok",
     "timestamp": 1558095779056,
     "user": {
      "displayName": "Ravi Teja",
      "photoUrl": "https://lh5.googleusercontent.com/-PZd4P_u8twU/AAAAAAAAAAI/AAAAAAAAAgg/3bcf7b95fH0/s64/photo.jpg",
      "userId": "10913218458194438742"
     },
     "user_tz": -330
    },
    "id": "MusRaoy5GTtr",
    "outputId": "42a1d019-38d3-4188-bef2-f616cf7b7a4a"
   },
   "outputs": [
    {
     "data": {
      "image/png": "[encoded data removed]",
      "text/plain": [
       "<Figure size 640x480 with 1 Axes>"
      ]
     },
     "metadata": {},
     "output_type": "display_data"
    }
   ],
   "source": [
    "plot_regression_line(x,y,b)"
   ]
  },
  {
   "cell_type": "markdown",
   "metadata": {
    "colab_type": "text",
    "id": "jNmlHr9wGTtu"
   },
   "source": [
    "Suppose you want to know the average Petrol Price per litre in 2019,"
   ]
  },
  {
   "cell_type": "markdown",
   "metadata": {
    "colab_type": "text",
    "id": "Lfzf9HwiGdFY"
   },
   "source": [
    "$ c + mx $"
   ]
  },
  {
   "cell_type": "code",
   "execution_count": 9,
   "metadata": {
    "colab": {
     "base_uri": "https://localhost:8080/",
     "height": 34
    },
    "colab_type": "code",
    "executionInfo": {
     "elapsed": 2361,
     "status": "ok",
     "timestamp": 1558095779058,
     "user": {
      "displayName": "Ravi Teja",
      "photoUrl": "https://lh5.googleusercontent.com/-PZd4P_u8twU/AAAAAAAAAAI/AAAAAAAAAgg/3bcf7b95fH0/s64/photo.jpg",
      "userId": "10913218458194438742"
     },
     "user_tz": -330
    },
    "id": "UA6fBDnPGTtv",
    "outputId": "a318b6c5-e575-46fc-dabf-d51758b158a6"
   },
   "outputs": [
    {
     "data": {
      "text/plain": [
       "86.55330882352428"
      ]
     },
     "execution_count": 9,
     "metadata": {},
     "output_type": "execute_result"
    }
   ],
   "source": [
    "b[0] + b[1]*2023"
   ]
  },
  {
   "cell_type": "markdown",
   "metadata": {
    "colab_type": "text",
    "id": "54ClqyWxGTtz"
   },
   "source": [
    "It'll be around 76 INR"
   ]
  },
  {
   "cell_type": "code",
   "execution_count": null,
   "metadata": {
    "colab": {},
    "colab_type": "code",
    "id": "cyZH1LqkGTt0"
   },
   "outputs": [],
   "source": []
  }
 ],
 "metadata": {
  "colab": {
   "collapsed_sections": [],
   "name": "predict-petrol-prices.ipynb",
   "provenance": [],
   "version": "0.3.2"
  },
  "kernelspec": {
   "display_name": "Python 3 (ipykernel)",
   "language": "python",
   "name": "python3"
  },
  "language_info": {
   "codemirror_mode": {
    "name": "ipython",
    "version": 3
   },
   "file_extension": ".py",
   "mimetype": "text/x-python",
   "name": "python",
   "nbconvert_exporter": "python",
   "pygments_lexer": "ipython3",
   "version": "3.11.5"
  }
 },
 "nbformat": 4,
 "nbformat_minor": 4
}
