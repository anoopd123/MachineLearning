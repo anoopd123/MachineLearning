{
 "cells": [
  {
   "cell_type": "markdown",
   "id": "33a0cf85",
   "metadata": {},
   "source": [
    "## GridSearch vs RandomSearch"
   ]
  },
  {
   "cell_type": "code",
   "execution_count": 1,
   "id": "8ae04735",
   "metadata": {},
   "outputs": [],
   "source": [
    "import numpy as np \n",
    "from sklearn.ensemble import RandomForestClassifier \n",
    "from sklearn.model_selection import RandomizedSearchCV,GridSearchCV \n",
    "from time import time"
   ]
  },
  {
   "cell_type": "code",
   "execution_count": 2,
   "id": "b4f2103a",
   "metadata": {},
   "outputs": [],
   "source": [
    "# Generate sample data \n",
    "X = np.random.rand(200, 10) \n",
    "y = np.random.randint(2, size=200)"
   ]
  },
  {
   "cell_type": "code",
   "execution_count": 3,
   "id": "dfd2e7df",
   "metadata": {},
   "outputs": [],
   "source": [
    "# Define the model and the hyperparameter \n",
    "# search space \n",
    "model = RandomForestClassifier() \n",
    "param_grid = { \n",
    "'n_estimators': [10, 50, 100, 200], \n",
    "'max_depth': [None, 5, 10, 15], \n",
    "'min_samples_split': np.linspace(0.1, 1, 11),  \n",
    "} "
   ]
  },
  {
   "cell_type": "code",
   "execution_count": 4,
   "id": "430bd323",
   "metadata": {},
   "outputs": [],
   "source": [
    "# Use RandomizedSearchCV to sample \n",
    "# from the search space and fit the model \n",
    "random_search = RandomizedSearchCV( model, param_grid, \n",
    "    cv=5, \n",
    "    n_iter=10, \n",
    "    random_state=42)"
   ]
  },
  {
   "cell_type": "code",
   "execution_count": 5,
   "id": "d5b5ab9d",
   "metadata": {},
   "outputs": [],
   "source": [
    "# time the duration\n",
    "start = time()\n",
    "random_search.fit(X, y) \n",
    "end = time()\n",
    "rtime = end - start"
   ]
  },
  {
   "cell_type": "code",
   "execution_count": 6,
   "id": "6e5a74a3",
   "metadata": {},
   "outputs": [],
   "source": [
    "# Use GridSearchCV to explore the entire search space and fit the model \n",
    "grid_search = GridSearchCV(model, param_grid, cv=5) "
   ]
  },
  {
   "cell_type": "code",
   "execution_count": 14,
   "id": "4381a87f",
   "metadata": {},
   "outputs": [],
   "source": [
    "# time the duration\n",
    "start = time()\n",
    "grid_search.fit(X, y)\n",
    "end = time()\n",
    "gtime = end - start"
   ]
  },
  {
   "cell_type": "code",
   "execution_count": 11,
   "id": "7569109c",
   "metadata": {},
   "outputs": [
    {
     "name": "stdout",
     "output_type": "stream",
     "text": [
      "Best hyperparameters found by RandomizedSearchCV: {'n_estimators': 10, 'min_samples_split': 0.45999999999999996, 'max_depth': None}\n",
      "Best hyperparameters found by GridSearchCV: {'max_depth': 5, 'min_samples_split': 0.64, 'n_estimators': 10}\n"
     ]
    }
   ],
   "source": [
    "# Print the best hyperparameters found by each method \n",
    "print(f\"Best hyperparameters found by RandomizedSearchCV: {random_search.best_params_}\") \n",
    "print(f\"Best hyperparameters found by GridSearchCV: {grid_search.best_params_}\")"
   ]
  },
  {
   "cell_type": "code",
   "execution_count": 12,
   "id": "66c58f4b",
   "metadata": {},
   "outputs": [
    {
     "name": "stdout",
     "output_type": "stream",
     "text": [
      "Duration of RandomizedSearchCV: 12.340409994125366\n",
      "Duration of GridSearchCV: 189.2243127822876\n"
     ]
    }
   ],
   "source": [
    "# Print time taken\n",
    "print(f\"Duration of RandomizedSearchCV: {rtime}\") \n",
    "print(f\"Duration of GridSearchCV: {gtime}\")"
   ]
  },
  {
   "cell_type": "code",
   "execution_count": null,
   "id": "c4b865c9",
   "metadata": {},
   "outputs": [],
   "source": []
  }
 ],
 "metadata": {
  "kernelspec": {
   "display_name": "Python 3 (ipykernel)",
   "language": "python",
   "name": "python3"
  },
  "language_info": {
   "codemirror_mode": {
    "name": "ipython",
    "version": 3
   },
   "file_extension": ".py",
   "mimetype": "text/x-python",
   "name": "python",
   "nbconvert_exporter": "python",
   "pygments_lexer": "ipython3",
   "version": "3.11.5"
  }
 },
 "nbformat": 4,
 "nbformat_minor": 5
}
