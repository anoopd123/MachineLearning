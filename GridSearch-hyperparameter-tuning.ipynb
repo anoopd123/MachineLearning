{
 "cells": [
  {
   "cell_type": "markdown",
   "metadata": {},
   "source": [
    "# Hyperparameter Tuning"
   ]
  },
  {
   "cell_type": "code",
   "execution_count": 1,
   "metadata": {
    "tags": []
   },
   "outputs": [],
   "source": [
    "import pandas as pd\n",
    "import warnings\n",
    "warnings.filterwarnings(action='ignore')"
   ]
  },
  {
   "cell_type": "code",
   "execution_count": 2,
   "metadata": {
    "tags": []
   },
   "outputs": [],
   "source": [
    "#import data\n",
    "df = pd.read_csv('diabetes.csv')"
   ]
  },
  {
   "cell_type": "code",
   "execution_count": 3,
   "metadata": {
    "tags": []
   },
   "outputs": [
    {
     "data": {
      "text/html": [
       "<div>\n",
       "<style scoped>\n",
       "    .dataframe tbody tr th:only-of-type {\n",
       "        vertical-align: middle;\n",
       "    }\n",
       "\n",
       "    .dataframe tbody tr th {\n",
       "        vertical-align: top;\n",
       "    }\n",
       "\n",
       "    .dataframe thead th {\n",
       "        text-align: right;\n",
       "    }\n",
       "</style>\n",
       "<table border=\"1\" class=\"dataframe\">\n",
       "  <thead>\n",
       "    <tr style=\"text-align: right;\">\n",
       "      <th></th>\n",
       "      <th>Pregnancies</th>\n",
       "      <th>Glucose</th>\n",
       "      <th>BloodPressure</th>\n",
       "      <th>SkinThickness</th>\n",
       "      <th>Insulin</th>\n",
       "      <th>BMI</th>\n",
       "      <th>DiabetesPedigreeFunction</th>\n",
       "      <th>Age</th>\n",
       "      <th>Outcome</th>\n",
       "    </tr>\n",
       "  </thead>\n",
       "  <tbody>\n",
       "    <tr>\n",
       "      <th>0</th>\n",
       "      <td>6</td>\n",
       "      <td>148</td>\n",
       "      <td>72</td>\n",
       "      <td>35</td>\n",
       "      <td>0</td>\n",
       "      <td>33.6</td>\n",
       "      <td>0.627</td>\n",
       "      <td>50</td>\n",
       "      <td>1</td>\n",
       "    </tr>\n",
       "    <tr>\n",
       "      <th>1</th>\n",
       "      <td>1</td>\n",
       "      <td>85</td>\n",
       "      <td>66</td>\n",
       "      <td>29</td>\n",
       "      <td>0</td>\n",
       "      <td>26.6</td>\n",
       "      <td>0.351</td>\n",
       "      <td>31</td>\n",
       "      <td>0</td>\n",
       "    </tr>\n",
       "    <tr>\n",
       "      <th>2</th>\n",
       "      <td>8</td>\n",
       "      <td>183</td>\n",
       "      <td>64</td>\n",
       "      <td>0</td>\n",
       "      <td>0</td>\n",
       "      <td>23.3</td>\n",
       "      <td>0.672</td>\n",
       "      <td>32</td>\n",
       "      <td>1</td>\n",
       "    </tr>\n",
       "    <tr>\n",
       "      <th>3</th>\n",
       "      <td>1</td>\n",
       "      <td>89</td>\n",
       "      <td>66</td>\n",
       "      <td>23</td>\n",
       "      <td>94</td>\n",
       "      <td>28.1</td>\n",
       "      <td>0.167</td>\n",
       "      <td>21</td>\n",
       "      <td>0</td>\n",
       "    </tr>\n",
       "    <tr>\n",
       "      <th>4</th>\n",
       "      <td>0</td>\n",
       "      <td>137</td>\n",
       "      <td>40</td>\n",
       "      <td>35</td>\n",
       "      <td>168</td>\n",
       "      <td>43.1</td>\n",
       "      <td>2.288</td>\n",
       "      <td>33</td>\n",
       "      <td>1</td>\n",
       "    </tr>\n",
       "  </tbody>\n",
       "</table>\n",
       "</div>"
      ],
      "text/plain": [
       "   Pregnancies  Glucose  BloodPressure  SkinThickness  Insulin   BMI  \\\n",
       "0            6      148             72             35        0  33.6   \n",
       "1            1       85             66             29        0  26.6   \n",
       "2            8      183             64              0        0  23.3   \n",
       "3            1       89             66             23       94  28.1   \n",
       "4            0      137             40             35      168  43.1   \n",
       "\n",
       "   DiabetesPedigreeFunction  Age  Outcome  \n",
       "0                     0.627   50        1  \n",
       "1                     0.351   31        0  \n",
       "2                     0.672   32        1  \n",
       "3                     0.167   21        0  \n",
       "4                     2.288   33        1  "
      ]
     },
     "execution_count": 3,
     "metadata": {},
     "output_type": "execute_result"
    }
   ],
   "source": [
    "df.head()"
   ]
  },
  {
   "cell_type": "code",
   "execution_count": 4,
   "metadata": {
    "tags": []
   },
   "outputs": [
    {
     "data": {
      "text/plain": [
       "Outcome\n",
       "0    500\n",
       "1    268\n",
       "Name: count, dtype: int64"
      ]
     },
     "execution_count": 4,
     "metadata": {},
     "output_type": "execute_result"
    }
   ],
   "source": [
    "df.Outcome.value_counts() #Class distribution"
   ]
  },
  {
   "cell_type": "code",
   "execution_count": 5,
   "metadata": {
    "tags": []
   },
   "outputs": [],
   "source": [
    "#Split data into attributes and class\n",
    "y = df.Outcome\n",
    "X = df.drop(columns=[\"Outcome\"])"
   ]
  },
  {
   "cell_type": "code",
   "execution_count": 6,
   "metadata": {
    "tags": []
   },
   "outputs": [],
   "source": [
    "#perform training and test split\n",
    "from sklearn.model_selection import train_test_split\n",
    "X_train, X_test, y_train, y_test = train_test_split(X, y, random_state=42,stratify=df.Outcome)"
   ]
  },
  {
   "cell_type": "code",
   "execution_count": 7,
   "metadata": {
    "tags": []
   },
   "outputs": [],
   "source": [
    "#Logistic regression\n",
    "from sklearn.linear_model import LogisticRegression"
   ]
  },
  {
   "cell_type": "code",
   "execution_count": 8,
   "metadata": {
    "tags": []
   },
   "outputs": [
    {
     "data": {
      "text/html": [
       "<style>#sk-container-id-1 {color: black;}#sk-container-id-1 pre{padding: 0;}#sk-container-id-1 div.sk-toggleable {background-color: white;}#sk-container-id-1 label.sk-toggleable__label {cursor: pointer;display: block;width: 100%;margin-bottom: 0;padding: 0.3em;box-sizing: border-box;text-align: center;}#sk-container-id-1 label.sk-toggleable__label-arrow:before {content: \"▸\";float: left;margin-right: 0.25em;color: #696969;}#sk-container-id-1 label.sk-toggleable__label-arrow:hover:before {color: black;}#sk-container-id-1 div.sk-estimator:hover label.sk-toggleable__label-arrow:before {color: black;}#sk-container-id-1 div.sk-toggleable__content {max-height: 0;max-width: 0;overflow: hidden;text-align: left;background-color: #f0f8ff;}#sk-container-id-1 div.sk-toggleable__content pre {margin: 0.2em;color: black;border-radius: 0.25em;background-color: #f0f8ff;}#sk-container-id-1 input.sk-toggleable__control:checked~div.sk-toggleable__content {max-height: 200px;max-width: 100%;overflow: auto;}#sk-container-id-1 input.sk-toggleable__control:checked~label.sk-toggleable__label-arrow:before {content: \"▾\";}#sk-container-id-1 div.sk-estimator input.sk-toggleable__control:checked~label.sk-toggleable__label {background-color: #d4ebff;}#sk-container-id-1 div.sk-label input.sk-toggleable__control:checked~label.sk-toggleable__label {background-color: #d4ebff;}#sk-container-id-1 input.sk-hidden--visually {border: 0;clip: rect(1px 1px 1px 1px);clip: rect(1px, 1px, 1px, 1px);height: 1px;margin: -1px;overflow: hidden;padding: 0;position: absolute;width: 1px;}#sk-container-id-1 div.sk-estimator {font-family: monospace;background-color: #f0f8ff;border: 1px dotted black;border-radius: 0.25em;box-sizing: border-box;margin-bottom: 0.5em;}#sk-container-id-1 div.sk-estimator:hover {background-color: #d4ebff;}#sk-container-id-1 div.sk-parallel-item::after {content: \"\";width: 100%;border-bottom: 1px solid gray;flex-grow: 1;}#sk-container-id-1 div.sk-label:hover label.sk-toggleable__label {background-color: #d4ebff;}#sk-container-id-1 div.sk-serial::before {content: \"\";position: absolute;border-left: 1px solid gray;box-sizing: border-box;top: 0;bottom: 0;left: 50%;z-index: 0;}#sk-container-id-1 div.sk-serial {display: flex;flex-direction: column;align-items: center;background-color: white;padding-right: 0.2em;padding-left: 0.2em;position: relative;}#sk-container-id-1 div.sk-item {position: relative;z-index: 1;}#sk-container-id-1 div.sk-parallel {display: flex;align-items: stretch;justify-content: center;background-color: white;position: relative;}#sk-container-id-1 div.sk-item::before, #sk-container-id-1 div.sk-parallel-item::before {content: \"\";position: absolute;border-left: 1px solid gray;box-sizing: border-box;top: 0;bottom: 0;left: 50%;z-index: -1;}#sk-container-id-1 div.sk-parallel-item {display: flex;flex-direction: column;z-index: 1;position: relative;background-color: white;}#sk-container-id-1 div.sk-parallel-item:first-child::after {align-self: flex-end;width: 50%;}#sk-container-id-1 div.sk-parallel-item:last-child::after {align-self: flex-start;width: 50%;}#sk-container-id-1 div.sk-parallel-item:only-child::after {width: 0;}#sk-container-id-1 div.sk-dashed-wrapped {border: 1px dashed gray;margin: 0 0.4em 0.5em 0.4em;box-sizing: border-box;padding-bottom: 0.4em;background-color: white;}#sk-container-id-1 div.sk-label label {font-family: monospace;font-weight: bold;display: inline-block;line-height: 1.2em;}#sk-container-id-1 div.sk-label-container {text-align: center;}#sk-container-id-1 div.sk-container {/* jupyter's `normalize.less` sets `[hidden] { display: none; }` but bootstrap.min.css set `[hidden] { display: none !important; }` so we also need the `!important` here to be able to override the default hidden behavior on the sphinx rendered scikit-learn.org. See: https://github.com/scikit-learn/scikit-learn/issues/21755 */display: inline-block !important;position: relative;}#sk-container-id-1 div.sk-text-repr-fallback {display: none;}</style><div id=\"sk-container-id-1\" class=\"sk-top-container\"><div class=\"sk-text-repr-fallback\"><pre>LogisticRegression()</pre><b>In a Jupyter environment, please rerun this cell to show the HTML representation or trust the notebook. <br />On GitHub, the HTML representation is unable to render, please try loading this page with nbviewer.org.</b></div><div class=\"sk-container\" hidden><div class=\"sk-item\"><div class=\"sk-estimator sk-toggleable\"><input class=\"sk-toggleable__control sk-hidden--visually\" id=\"sk-estimator-id-1\" type=\"checkbox\" checked><label for=\"sk-estimator-id-1\" class=\"sk-toggleable__label sk-toggleable__label-arrow\">LogisticRegression</label><div class=\"sk-toggleable__content\"><pre>LogisticRegression()</pre></div></div></div></div></div>"
      ],
      "text/plain": [
       "LogisticRegression()"
      ]
     },
     "execution_count": 8,
     "metadata": {},
     "output_type": "execute_result"
    }
   ],
   "source": [
    "clf = LogisticRegression()\n",
    "clf.fit(X_train,y_train)"
   ]
  },
  {
   "cell_type": "code",
   "execution_count": 9,
   "metadata": {
    "tags": []
   },
   "outputs": [
    {
     "name": "stdout",
     "output_type": "stream",
     "text": [
      "Accuracy Score : 0.7291666666666666\n",
      "Precision Score : 0.7210379340853793\n",
      "Recall Score : 0.7291666666666666\n",
      "F1 Score : 0.722049284611855\n"
     ]
    }
   ],
   "source": [
    "y_pred = clf.predict(X_test)\n",
    "# Model Evaluation metrics \n",
    "from sklearn.metrics import accuracy_score,recall_score,precision_score,f1_score\n",
    "print('Accuracy Score : ' + str(accuracy_score(y_test,y_pred)))\n",
    "print('Precision Score : ' + str(precision_score(y_test,y_pred,average=\"weighted\")))\n",
    "print('Recall Score : ' + str(recall_score(y_test,y_pred,average=\"weighted\")))\n",
    "print('F1 Score : ' + str(f1_score(y_test,y_pred,average=\"weighted\")))"
   ]
  },
  {
   "cell_type": "markdown",
   "metadata": {},
   "source": [
    "##### Grid Search to maximize Recall"
   ]
  },
  {
   "cell_type": "code",
   "execution_count": 10,
   "metadata": {
    "tags": []
   },
   "outputs": [],
   "source": [
    "#Grid Search\n",
    "from sklearn.model_selection import GridSearchCV"
   ]
  },
  {
   "cell_type": "code",
   "execution_count": 11,
   "metadata": {
    "tags": []
   },
   "outputs": [],
   "source": [
    "clf = LogisticRegression()"
   ]
  },
  {
   "cell_type": "code",
   "execution_count": 12,
   "metadata": {
    "tags": []
   },
   "outputs": [],
   "source": [
    "grid_values = {\n",
    "    'penalty': ['l1', 'l2'],\n",
    "    'C':[0.001,0.1,1,2,100,1000],\n",
    "    'solver' : ['newton-cg', 'lbfgs', 'liblinear', 'sag', 'saga']\n",
    "              }"
   ]
  },
  {
   "cell_type": "code",
   "execution_count": 13,
   "metadata": {
    "tags": []
   },
   "outputs": [],
   "source": [
    "grid_clf_acc = GridSearchCV(clf, param_grid = grid_values,\n",
    "                            scoring = 'accuracy',\n",
    "                           verbose=3) # try for accuracy, precision, f1"
   ]
  },
  {
   "cell_type": "code",
   "execution_count": 14,
   "metadata": {
    "tags": []
   },
   "outputs": [
    {
     "name": "stdout",
     "output_type": "stream",
     "text": [
      "Fitting 5 folds for each of 60 candidates, totalling 300 fits\n",
      "[CV 1/5] END C=0.001, penalty=l1, solver=newton-cg;, score=nan total time=   0.0s\n",
      "[CV 2/5] END C=0.001, penalty=l1, solver=newton-cg;, score=nan total time=   0.0s\n",
      "[CV 3/5] END C=0.001, penalty=l1, solver=newton-cg;, score=nan total time=   0.0s\n",
      "[CV 4/5] END C=0.001, penalty=l1, solver=newton-cg;, score=nan total time=   0.0s\n",
      "[CV 5/5] END C=0.001, penalty=l1, solver=newton-cg;, score=nan total time=   0.0s\n",
      "[CV 1/5] END ...C=0.001, penalty=l1, solver=lbfgs;, score=nan total time=   0.0s\n",
      "[CV 2/5] END ...C=0.001, penalty=l1, solver=lbfgs;, score=nan total time=   0.0s\n",
      "[CV 3/5] END ...C=0.001, penalty=l1, solver=lbfgs;, score=nan total time=   0.0s\n",
      "[CV 4/5] END ...C=0.001, penalty=l1, solver=lbfgs;, score=nan total time=   0.0s\n",
      "[CV 5/5] END ...C=0.001, penalty=l1, solver=lbfgs;, score=nan total time=   0.0s\n",
      "[CV 1/5] END C=0.001, penalty=l1, solver=liblinear;, score=0.655 total time=   0.0s\n",
      "[CV 2/5] END C=0.001, penalty=l1, solver=liblinear;, score=0.643 total time=   0.0s\n",
      "[CV 3/5] END C=0.001, penalty=l1, solver=liblinear;, score=0.670 total time=   0.0s\n",
      "[CV 4/5] END C=0.001, penalty=l1, solver=liblinear;, score=0.652 total time=   0.0s\n",
      "[CV 5/5] END C=0.001, penalty=l1, solver=liblinear;, score=0.652 total time=   0.0s\n",
      "[CV 1/5] END .....C=0.001, penalty=l1, solver=sag;, score=nan total time=   0.0s\n",
      "[CV 2/5] END .....C=0.001, penalty=l1, solver=sag;, score=nan total time=   0.0s\n",
      "[CV 3/5] END .....C=0.001, penalty=l1, solver=sag;, score=nan total time=   0.0s\n",
      "[CV 4/5] END .....C=0.001, penalty=l1, solver=sag;, score=nan total time=   0.0s\n",
      "[CV 5/5] END .....C=0.001, penalty=l1, solver=sag;, score=nan total time=   0.0s\n",
      "[CV 1/5] END ..C=0.001, penalty=l1, solver=saga;, score=0.655 total time=   0.0s\n",
      "[CV 2/5] END ..C=0.001, penalty=l1, solver=saga;, score=0.643 total time=   0.0s\n",
      "[CV 3/5] END ..C=0.001, penalty=l1, solver=saga;, score=0.670 total time=   0.0s\n",
      "[CV 4/5] END ..C=0.001, penalty=l1, solver=saga;, score=0.652 total time=   0.0s\n",
      "[CV 5/5] END ..C=0.001, penalty=l1, solver=saga;, score=0.652 total time=   0.0s\n",
      "[CV 1/5] END C=0.001, penalty=l2, solver=newton-cg;, score=0.750 total time=   0.0s\n",
      "[CV 2/5] END C=0.001, penalty=l2, solver=newton-cg;, score=0.774 total time=   0.0s\n",
      "[CV 3/5] END C=0.001, penalty=l2, solver=newton-cg;, score=0.765 total time=   0.0s\n",
      "[CV 4/5] END C=0.001, penalty=l2, solver=newton-cg;, score=0.765 total time=   0.0s\n",
      "[CV 5/5] END C=0.001, penalty=l2, solver=newton-cg;, score=0.783 total time=   0.0s\n",
      "[CV 1/5] END .C=0.001, penalty=l2, solver=lbfgs;, score=0.750 total time=   0.0s\n",
      "[CV 2/5] END .C=0.001, penalty=l2, solver=lbfgs;, score=0.774 total time=   0.0s\n",
      "[CV 3/5] END .C=0.001, penalty=l2, solver=lbfgs;, score=0.765 total time=   0.0s\n",
      "[CV 4/5] END .C=0.001, penalty=l2, solver=lbfgs;, score=0.765 total time=   0.0s\n",
      "[CV 5/5] END .C=0.001, penalty=l2, solver=lbfgs;, score=0.783 total time=   0.0s\n",
      "[CV 1/5] END C=0.001, penalty=l2, solver=liblinear;, score=0.681 total time=   0.0s\n",
      "[CV 2/5] END C=0.001, penalty=l2, solver=liblinear;, score=0.722 total time=   0.0s\n",
      "[CV 3/5] END C=0.001, penalty=l2, solver=liblinear;, score=0.661 total time=   0.0s\n",
      "[CV 4/5] END C=0.001, penalty=l2, solver=liblinear;, score=0.661 total time=   0.0s\n",
      "[CV 5/5] END C=0.001, penalty=l2, solver=liblinear;, score=0.643 total time=   0.0s\n",
      "[CV 1/5] END ...C=0.001, penalty=l2, solver=sag;, score=0.681 total time=   0.0s\n",
      "[CV 2/5] END ...C=0.001, penalty=l2, solver=sag;, score=0.722 total time=   0.0s\n",
      "[CV 3/5] END ...C=0.001, penalty=l2, solver=sag;, score=0.661 total time=   0.0s\n",
      "[CV 4/5] END ...C=0.001, penalty=l2, solver=sag;, score=0.670 total time=   0.0s\n",
      "[CV 5/5] END ...C=0.001, penalty=l2, solver=sag;, score=0.661 total time=   0.0s\n",
      "[CV 1/5] END ..C=0.001, penalty=l2, solver=saga;, score=0.681 total time=   0.0s\n",
      "[CV 2/5] END ..C=0.001, penalty=l2, solver=saga;, score=0.722 total time=   0.0s\n",
      "[CV 3/5] END ..C=0.001, penalty=l2, solver=saga;, score=0.661 total time=   0.0s\n",
      "[CV 4/5] END ..C=0.001, penalty=l2, solver=saga;, score=0.661 total time=   0.0s\n",
      "[CV 5/5] END ..C=0.001, penalty=l2, solver=saga;, score=0.635 total time=   0.0s\n",
      "[CV 1/5] END .C=0.1, penalty=l1, solver=newton-cg;, score=nan total time=   0.0s\n",
      "[CV 2/5] END .C=0.1, penalty=l1, solver=newton-cg;, score=nan total time=   0.0s\n",
      "[CV 3/5] END .C=0.1, penalty=l1, solver=newton-cg;, score=nan total time=   0.0s\n",
      "[CV 4/5] END .C=0.1, penalty=l1, solver=newton-cg;, score=nan total time=   0.0s\n",
      "[CV 5/5] END .C=0.1, penalty=l1, solver=newton-cg;, score=nan total time=   0.0s\n",
      "[CV 1/5] END .....C=0.1, penalty=l1, solver=lbfgs;, score=nan total time=   0.0s\n",
      "[CV 2/5] END .....C=0.1, penalty=l1, solver=lbfgs;, score=nan total time=   0.0s\n",
      "[CV 3/5] END .....C=0.1, penalty=l1, solver=lbfgs;, score=nan total time=   0.0s\n",
      "[CV 4/5] END .....C=0.1, penalty=l1, solver=lbfgs;, score=nan total time=   0.0s\n",
      "[CV 5/5] END .....C=0.1, penalty=l1, solver=lbfgs;, score=nan total time=   0.0s\n",
      "[CV 1/5] END C=0.1, penalty=l1, solver=liblinear;, score=0.733 total time=   0.0s\n",
      "[CV 2/5] END C=0.1, penalty=l1, solver=liblinear;, score=0.791 total time=   0.0s\n",
      "[CV 3/5] END C=0.1, penalty=l1, solver=liblinear;, score=0.765 total time=   0.0s\n",
      "[CV 4/5] END C=0.1, penalty=l1, solver=liblinear;, score=0.748 total time=   0.0s\n",
      "[CV 5/5] END C=0.1, penalty=l1, solver=liblinear;, score=0.696 total time=   0.0s\n",
      "[CV 1/5] END .......C=0.1, penalty=l1, solver=sag;, score=nan total time=   0.0s\n",
      "[CV 2/5] END .......C=0.1, penalty=l1, solver=sag;, score=nan total time=   0.0s\n",
      "[CV 3/5] END .......C=0.1, penalty=l1, solver=sag;, score=nan total time=   0.0s\n",
      "[CV 4/5] END .......C=0.1, penalty=l1, solver=sag;, score=nan total time=   0.0s\n",
      "[CV 5/5] END .......C=0.1, penalty=l1, solver=sag;, score=nan total time=   0.0s\n",
      "[CV 1/5] END ....C=0.1, penalty=l1, solver=saga;, score=0.681 total time=   0.0s\n",
      "[CV 2/5] END ....C=0.1, penalty=l1, solver=saga;, score=0.730 total time=   0.0s\n",
      "[CV 3/5] END ....C=0.1, penalty=l1, solver=saga;, score=0.661 total time=   0.0s\n",
      "[CV 4/5] END ....C=0.1, penalty=l1, solver=saga;, score=0.661 total time=   0.0s\n",
      "[CV 5/5] END ....C=0.1, penalty=l1, solver=saga;, score=0.635 total time=   0.0s\n",
      "[CV 1/5] END C=0.1, penalty=l2, solver=newton-cg;, score=0.750 total time=   0.0s\n",
      "[CV 2/5] END C=0.1, penalty=l2, solver=newton-cg;, score=0.783 total time=   0.0s\n",
      "[CV 3/5] END C=0.1, penalty=l2, solver=newton-cg;, score=0.765 total time=   0.0s\n",
      "[CV 4/5] END C=0.1, penalty=l2, solver=newton-cg;, score=0.791 total time=   0.0s\n",
      "[CV 5/5] END C=0.1, penalty=l2, solver=newton-cg;, score=0.783 total time=   0.0s\n",
      "[CV 1/5] END ...C=0.1, penalty=l2, solver=lbfgs;, score=0.750 total time=   0.0s\n",
      "[CV 2/5] END ...C=0.1, penalty=l2, solver=lbfgs;, score=0.791 total time=   0.0s\n",
      "[CV 3/5] END ...C=0.1, penalty=l2, solver=lbfgs;, score=0.774 total time=   0.0s\n",
      "[CV 4/5] END ...C=0.1, penalty=l2, solver=lbfgs;, score=0.791 total time=   0.0s\n",
      "[CV 5/5] END ...C=0.1, penalty=l2, solver=lbfgs;, score=0.791 total time=   0.0s\n",
      "[CV 1/5] END C=0.1, penalty=l2, solver=liblinear;, score=0.681 total time=   0.0s\n",
      "[CV 2/5] END C=0.1, penalty=l2, solver=liblinear;, score=0.748 total time=   0.0s\n",
      "[CV 3/5] END C=0.1, penalty=l2, solver=liblinear;, score=0.722 total time=   0.0s\n",
      "[CV 4/5] END C=0.1, penalty=l2, solver=liblinear;, score=0.757 total time=   0.0s\n",
      "[CV 5/5] END C=0.1, penalty=l2, solver=liblinear;, score=0.661 total time=   0.0s\n",
      "[CV 1/5] END .....C=0.1, penalty=l2, solver=sag;, score=0.681 total time=   0.0s\n",
      "[CV 2/5] END .....C=0.1, penalty=l2, solver=sag;, score=0.748 total time=   0.0s\n",
      "[CV 3/5] END .....C=0.1, penalty=l2, solver=sag;, score=0.670 total time=   0.0s\n",
      "[CV 4/5] END .....C=0.1, penalty=l2, solver=sag;, score=0.661 total time=   0.0s\n",
      "[CV 5/5] END .....C=0.1, penalty=l2, solver=sag;, score=0.643 total time=   0.0s\n",
      "[CV 1/5] END ....C=0.1, penalty=l2, solver=saga;, score=0.690 total time=   0.0s\n",
      "[CV 2/5] END ....C=0.1, penalty=l2, solver=saga;, score=0.722 total time=   0.0s\n",
      "[CV 3/5] END ....C=0.1, penalty=l2, solver=saga;, score=0.661 total time=   0.0s\n",
      "[CV 4/5] END ....C=0.1, penalty=l2, solver=saga;, score=0.652 total time=   0.0s\n",
      "[CV 5/5] END ....C=0.1, penalty=l2, solver=saga;, score=0.635 total time=   0.0s\n",
      "[CV 1/5] END ...C=1, penalty=l1, solver=newton-cg;, score=nan total time=   0.0s\n",
      "[CV 2/5] END ...C=1, penalty=l1, solver=newton-cg;, score=nan total time=   0.0s\n",
      "[CV 3/5] END ...C=1, penalty=l1, solver=newton-cg;, score=nan total time=   0.0s\n",
      "[CV 4/5] END ...C=1, penalty=l1, solver=newton-cg;, score=nan total time=   0.0s\n",
      "[CV 5/5] END ...C=1, penalty=l1, solver=newton-cg;, score=nan total time=   0.0s\n",
      "[CV 1/5] END .......C=1, penalty=l1, solver=lbfgs;, score=nan total time=   0.0s\n",
      "[CV 2/5] END .......C=1, penalty=l1, solver=lbfgs;, score=nan total time=   0.0s\n",
      "[CV 3/5] END .......C=1, penalty=l1, solver=lbfgs;, score=nan total time=   0.0s\n",
      "[CV 4/5] END .......C=1, penalty=l1, solver=lbfgs;, score=nan total time=   0.0s\n",
      "[CV 5/5] END .......C=1, penalty=l1, solver=lbfgs;, score=nan total time=   0.0s\n",
      "[CV 1/5] END .C=1, penalty=l1, solver=liblinear;, score=0.759 total time=   0.0s\n",
      "[CV 2/5] END .C=1, penalty=l1, solver=liblinear;, score=0.774 total time=   0.0s\n",
      "[CV 3/5] END .C=1, penalty=l1, solver=liblinear;, score=0.757 total time=   0.0s\n",
      "[CV 4/5] END .C=1, penalty=l1, solver=liblinear;, score=0.791 total time=   0.0s\n",
      "[CV 5/5] END .C=1, penalty=l1, solver=liblinear;, score=0.783 total time=   0.0s\n",
      "[CV 1/5] END .........C=1, penalty=l1, solver=sag;, score=nan total time=   0.0s\n",
      "[CV 2/5] END .........C=1, penalty=l1, solver=sag;, score=nan total time=   0.0s\n",
      "[CV 3/5] END .........C=1, penalty=l1, solver=sag;, score=nan total time=   0.0s\n",
      "[CV 4/5] END .........C=1, penalty=l1, solver=sag;, score=nan total time=   0.0s\n",
      "[CV 5/5] END .........C=1, penalty=l1, solver=sag;, score=nan total time=   0.0s\n",
      "[CV 1/5] END ......C=1, penalty=l1, solver=saga;, score=0.681 total time=   0.0s\n",
      "[CV 2/5] END ......C=1, penalty=l1, solver=saga;, score=0.722 total time=   0.0s\n",
      "[CV 3/5] END ......C=1, penalty=l1, solver=saga;, score=0.661 total time=   0.0s\n",
      "[CV 4/5] END ......C=1, penalty=l1, solver=saga;, score=0.652 total time=   0.0s\n",
      "[CV 5/5] END ......C=1, penalty=l1, solver=saga;, score=0.635 total time=   0.0s\n",
      "[CV 1/5] END .C=1, penalty=l2, solver=newton-cg;, score=0.759 total time=   0.0s\n",
      "[CV 2/5] END .C=1, penalty=l2, solver=newton-cg;, score=0.765 total time=   0.0s\n",
      "[CV 3/5] END .C=1, penalty=l2, solver=newton-cg;, score=0.774 total time=   0.0s\n",
      "[CV 4/5] END .C=1, penalty=l2, solver=newton-cg;, score=0.800 total time=   0.0s\n",
      "[CV 5/5] END .C=1, penalty=l2, solver=newton-cg;, score=0.791 total time=   0.0s\n",
      "[CV 1/5] END .....C=1, penalty=l2, solver=lbfgs;, score=0.741 total time=   0.0s\n",
      "[CV 2/5] END .....C=1, penalty=l2, solver=lbfgs;, score=0.765 total time=   0.0s\n",
      "[CV 3/5] END .....C=1, penalty=l2, solver=lbfgs;, score=0.774 total time=   0.0s\n",
      "[CV 4/5] END .....C=1, penalty=l2, solver=lbfgs;, score=0.800 total time=   0.0s\n",
      "[CV 5/5] END .....C=1, penalty=l2, solver=lbfgs;, score=0.791 total time=   0.0s\n",
      "[CV 1/5] END .C=1, penalty=l2, solver=liblinear;, score=0.741 total time=   0.0s\n",
      "[CV 2/5] END .C=1, penalty=l2, solver=liblinear;, score=0.809 total time=   0.0s\n",
      "[CV 3/5] END .C=1, penalty=l2, solver=liblinear;, score=0.765 total time=   0.0s\n",
      "[CV 4/5] END .C=1, penalty=l2, solver=liblinear;, score=0.783 total time=   0.0s\n",
      "[CV 5/5] END .C=1, penalty=l2, solver=liblinear;, score=0.757 total time=   0.0s\n",
      "[CV 1/5] END .......C=1, penalty=l2, solver=sag;, score=0.681 total time=   0.0s\n",
      "[CV 2/5] END .......C=1, penalty=l2, solver=sag;, score=0.748 total time=   0.0s\n",
      "[CV 3/5] END .......C=1, penalty=l2, solver=sag;, score=0.670 total time=   0.0s\n",
      "[CV 4/5] END .......C=1, penalty=l2, solver=sag;, score=0.661 total time=   0.0s\n",
      "[CV 5/5] END .......C=1, penalty=l2, solver=sag;, score=0.643 total time=   0.0s\n",
      "[CV 1/5] END ......C=1, penalty=l2, solver=saga;, score=0.690 total time=   0.0s\n",
      "[CV 2/5] END ......C=1, penalty=l2, solver=saga;, score=0.722 total time=   0.0s\n",
      "[CV 3/5] END ......C=1, penalty=l2, solver=saga;, score=0.661 total time=   0.0s\n",
      "[CV 4/5] END ......C=1, penalty=l2, solver=saga;, score=0.652 total time=   0.0s\n",
      "[CV 5/5] END ......C=1, penalty=l2, solver=saga;, score=0.635 total time=   0.0s\n",
      "[CV 1/5] END ...C=2, penalty=l1, solver=newton-cg;, score=nan total time=   0.0s\n",
      "[CV 2/5] END ...C=2, penalty=l1, solver=newton-cg;, score=nan total time=   0.0s\n",
      "[CV 3/5] END ...C=2, penalty=l1, solver=newton-cg;, score=nan total time=   0.0s\n",
      "[CV 4/5] END ...C=2, penalty=l1, solver=newton-cg;, score=nan total time=   0.0s\n",
      "[CV 5/5] END ...C=2, penalty=l1, solver=newton-cg;, score=nan total time=   0.0s\n",
      "[CV 1/5] END .......C=2, penalty=l1, solver=lbfgs;, score=nan total time=   0.0s\n",
      "[CV 2/5] END .......C=2, penalty=l1, solver=lbfgs;, score=nan total time=   0.0s\n",
      "[CV 3/5] END .......C=2, penalty=l1, solver=lbfgs;, score=nan total time=   0.0s\n",
      "[CV 4/5] END .......C=2, penalty=l1, solver=lbfgs;, score=nan total time=   0.0s\n",
      "[CV 5/5] END .......C=2, penalty=l1, solver=lbfgs;, score=nan total time=   0.0s\n",
      "[CV 1/5] END .C=2, penalty=l1, solver=liblinear;, score=0.759 total time=   0.0s\n",
      "[CV 2/5] END .C=2, penalty=l1, solver=liblinear;, score=0.774 total time=   0.0s\n",
      "[CV 3/5] END .C=2, penalty=l1, solver=liblinear;, score=0.765 total time=   0.0s\n",
      "[CV 4/5] END .C=2, penalty=l1, solver=liblinear;, score=0.791 total time=   0.0s\n",
      "[CV 5/5] END .C=2, penalty=l1, solver=liblinear;, score=0.791 total time=   0.0s\n",
      "[CV 1/5] END .........C=2, penalty=l1, solver=sag;, score=nan total time=   0.0s\n",
      "[CV 2/5] END .........C=2, penalty=l1, solver=sag;, score=nan total time=   0.0s\n",
      "[CV 3/5] END .........C=2, penalty=l1, solver=sag;, score=nan total time=   0.0s\n",
      "[CV 4/5] END .........C=2, penalty=l1, solver=sag;, score=nan total time=   0.0s\n",
      "[CV 5/5] END .........C=2, penalty=l1, solver=sag;, score=nan total time=   0.0s\n",
      "[CV 1/5] END ......C=2, penalty=l1, solver=saga;, score=0.690 total time=   0.0s\n",
      "[CV 2/5] END ......C=2, penalty=l1, solver=saga;, score=0.722 total time=   0.0s\n",
      "[CV 3/5] END ......C=2, penalty=l1, solver=saga;, score=0.661 total time=   0.0s\n",
      "[CV 4/5] END ......C=2, penalty=l1, solver=saga;, score=0.652 total time=   0.0s\n",
      "[CV 5/5] END ......C=2, penalty=l1, solver=saga;, score=0.635 total time=   0.0s\n",
      "[CV 1/5] END .C=2, penalty=l2, solver=newton-cg;, score=0.759 total time=   0.0s\n",
      "[CV 2/5] END .C=2, penalty=l2, solver=newton-cg;, score=0.765 total time=   0.0s\n",
      "[CV 3/5] END .C=2, penalty=l2, solver=newton-cg;, score=0.774 total time=   0.0s\n",
      "[CV 4/5] END .C=2, penalty=l2, solver=newton-cg;, score=0.800 total time=   0.0s\n",
      "[CV 5/5] END .C=2, penalty=l2, solver=newton-cg;, score=0.791 total time=   0.0s\n",
      "[CV 1/5] END .....C=2, penalty=l2, solver=lbfgs;, score=0.759 total time=   0.0s\n",
      "[CV 2/5] END .....C=2, penalty=l2, solver=lbfgs;, score=0.757 total time=   0.0s\n",
      "[CV 3/5] END .....C=2, penalty=l2, solver=lbfgs;, score=0.774 total time=   0.0s\n",
      "[CV 4/5] END .....C=2, penalty=l2, solver=lbfgs;, score=0.800 total time=   0.0s\n",
      "[CV 5/5] END .....C=2, penalty=l2, solver=lbfgs;, score=0.791 total time=   0.0s\n",
      "[CV 1/5] END .C=2, penalty=l2, solver=liblinear;, score=0.750 total time=   0.0s\n",
      "[CV 2/5] END .C=2, penalty=l2, solver=liblinear;, score=0.800 total time=   0.0s\n",
      "[CV 3/5] END .C=2, penalty=l2, solver=liblinear;, score=0.765 total time=   0.0s\n",
      "[CV 4/5] END .C=2, penalty=l2, solver=liblinear;, score=0.791 total time=   0.0s\n",
      "[CV 5/5] END .C=2, penalty=l2, solver=liblinear;, score=0.774 total time=   0.0s\n",
      "[CV 1/5] END .......C=2, penalty=l2, solver=sag;, score=0.681 total time=   0.0s\n",
      "[CV 2/5] END .......C=2, penalty=l2, solver=sag;, score=0.748 total time=   0.0s\n",
      "[CV 3/5] END .......C=2, penalty=l2, solver=sag;, score=0.670 total time=   0.0s\n",
      "[CV 4/5] END .......C=2, penalty=l2, solver=sag;, score=0.661 total time=   0.0s\n",
      "[CV 5/5] END .......C=2, penalty=l2, solver=sag;, score=0.643 total time=   0.0s\n",
      "[CV 1/5] END ......C=2, penalty=l2, solver=saga;, score=0.690 total time=   0.0s\n",
      "[CV 2/5] END ......C=2, penalty=l2, solver=saga;, score=0.722 total time=   0.0s\n",
      "[CV 3/5] END ......C=2, penalty=l2, solver=saga;, score=0.661 total time=   0.0s\n",
      "[CV 4/5] END ......C=2, penalty=l2, solver=saga;, score=0.652 total time=   0.0s\n",
      "[CV 5/5] END ......C=2, penalty=l2, solver=saga;, score=0.635 total time=   0.0s\n",
      "[CV 1/5] END .C=100, penalty=l1, solver=newton-cg;, score=nan total time=   0.0s\n",
      "[CV 2/5] END .C=100, penalty=l1, solver=newton-cg;, score=nan total time=   0.0s\n",
      "[CV 3/5] END .C=100, penalty=l1, solver=newton-cg;, score=nan total time=   0.0s\n",
      "[CV 4/5] END .C=100, penalty=l1, solver=newton-cg;, score=nan total time=   0.0s\n",
      "[CV 5/5] END .C=100, penalty=l1, solver=newton-cg;, score=nan total time=   0.0s\n",
      "[CV 1/5] END .....C=100, penalty=l1, solver=lbfgs;, score=nan total time=   0.0s\n",
      "[CV 2/5] END .....C=100, penalty=l1, solver=lbfgs;, score=nan total time=   0.0s\n",
      "[CV 3/5] END .....C=100, penalty=l1, solver=lbfgs;, score=nan total time=   0.0s\n",
      "[CV 4/5] END .....C=100, penalty=l1, solver=lbfgs;, score=nan total time=   0.0s\n",
      "[CV 5/5] END .....C=100, penalty=l1, solver=lbfgs;, score=nan total time=   0.0s\n",
      "[CV 1/5] END C=100, penalty=l1, solver=liblinear;, score=0.759 total time=   0.0s\n",
      "[CV 2/5] END C=100, penalty=l1, solver=liblinear;, score=0.765 total time=   0.0s\n",
      "[CV 3/5] END C=100, penalty=l1, solver=liblinear;, score=0.774 total time=   0.0s\n",
      "[CV 4/5] END C=100, penalty=l1, solver=liblinear;, score=0.800 total time=   0.0s\n",
      "[CV 5/5] END C=100, penalty=l1, solver=liblinear;, score=0.791 total time=   0.0s\n",
      "[CV 1/5] END .......C=100, penalty=l1, solver=sag;, score=nan total time=   0.0s\n",
      "[CV 2/5] END .......C=100, penalty=l1, solver=sag;, score=nan total time=   0.0s\n",
      "[CV 3/5] END .......C=100, penalty=l1, solver=sag;, score=nan total time=   0.0s\n",
      "[CV 4/5] END .......C=100, penalty=l1, solver=sag;, score=nan total time=   0.0s\n",
      "[CV 5/5] END .......C=100, penalty=l1, solver=sag;, score=nan total time=   0.0s\n",
      "[CV 1/5] END ....C=100, penalty=l1, solver=saga;, score=0.690 total time=   0.0s\n",
      "[CV 2/5] END ....C=100, penalty=l1, solver=saga;, score=0.722 total time=   0.0s\n",
      "[CV 3/5] END ....C=100, penalty=l1, solver=saga;, score=0.661 total time=   0.0s\n",
      "[CV 4/5] END ....C=100, penalty=l1, solver=saga;, score=0.652 total time=   0.0s\n",
      "[CV 5/5] END ....C=100, penalty=l1, solver=saga;, score=0.635 total time=   0.0s\n",
      "[CV 1/5] END C=100, penalty=l2, solver=newton-cg;, score=0.759 total time=   0.0s\n",
      "[CV 2/5] END C=100, penalty=l2, solver=newton-cg;, score=0.765 total time=   0.0s\n",
      "[CV 3/5] END C=100, penalty=l2, solver=newton-cg;, score=0.774 total time=   0.0s\n",
      "[CV 4/5] END C=100, penalty=l2, solver=newton-cg;, score=0.800 total time=   0.0s\n",
      "[CV 5/5] END C=100, penalty=l2, solver=newton-cg;, score=0.791 total time=   0.0s\n",
      "[CV 1/5] END ...C=100, penalty=l2, solver=lbfgs;, score=0.759 total time=   0.0s\n",
      "[CV 2/5] END ...C=100, penalty=l2, solver=lbfgs;, score=0.757 total time=   0.0s\n",
      "[CV 3/5] END ...C=100, penalty=l2, solver=lbfgs;, score=0.765 total time=   0.0s\n",
      "[CV 4/5] END ...C=100, penalty=l2, solver=lbfgs;, score=0.800 total time=   0.0s\n",
      "[CV 5/5] END ...C=100, penalty=l2, solver=lbfgs;, score=0.791 total time=   0.0s\n",
      "[CV 1/5] END C=100, penalty=l2, solver=liblinear;, score=0.759 total time=   0.0s\n",
      "[CV 2/5] END C=100, penalty=l2, solver=liblinear;, score=0.765 total time=   0.0s\n",
      "[CV 3/5] END C=100, penalty=l2, solver=liblinear;, score=0.765 total time=   0.0s\n",
      "[CV 4/5] END C=100, penalty=l2, solver=liblinear;, score=0.800 total time=   0.0s\n",
      "[CV 5/5] END C=100, penalty=l2, solver=liblinear;, score=0.791 total time=   0.0s\n",
      "[CV 1/5] END .....C=100, penalty=l2, solver=sag;, score=0.681 total time=   0.0s\n",
      "[CV 2/5] END .....C=100, penalty=l2, solver=sag;, score=0.748 total time=   0.0s\n",
      "[CV 3/5] END .....C=100, penalty=l2, solver=sag;, score=0.670 total time=   0.0s\n",
      "[CV 4/5] END .....C=100, penalty=l2, solver=sag;, score=0.661 total time=   0.0s\n",
      "[CV 5/5] END .....C=100, penalty=l2, solver=sag;, score=0.643 total time=   0.0s\n",
      "[CV 1/5] END ....C=100, penalty=l2, solver=saga;, score=0.690 total time=   0.0s\n",
      "[CV 2/5] END ....C=100, penalty=l2, solver=saga;, score=0.722 total time=   0.0s\n",
      "[CV 3/5] END ....C=100, penalty=l2, solver=saga;, score=0.661 total time=   0.0s\n",
      "[CV 4/5] END ....C=100, penalty=l2, solver=saga;, score=0.652 total time=   0.0s\n",
      "[CV 5/5] END ....C=100, penalty=l2, solver=saga;, score=0.635 total time=   0.0s\n",
      "[CV 1/5] END C=1000, penalty=l1, solver=newton-cg;, score=nan total time=   0.0s\n",
      "[CV 2/5] END C=1000, penalty=l1, solver=newton-cg;, score=nan total time=   0.0s\n",
      "[CV 3/5] END C=1000, penalty=l1, solver=newton-cg;, score=nan total time=   0.0s\n",
      "[CV 4/5] END C=1000, penalty=l1, solver=newton-cg;, score=nan total time=   0.0s\n",
      "[CV 5/5] END C=1000, penalty=l1, solver=newton-cg;, score=nan total time=   0.0s\n",
      "[CV 1/5] END ....C=1000, penalty=l1, solver=lbfgs;, score=nan total time=   0.0s\n",
      "[CV 2/5] END ....C=1000, penalty=l1, solver=lbfgs;, score=nan total time=   0.0s\n",
      "[CV 3/5] END ....C=1000, penalty=l1, solver=lbfgs;, score=nan total time=   0.0s\n",
      "[CV 4/5] END ....C=1000, penalty=l1, solver=lbfgs;, score=nan total time=   0.0s\n",
      "[CV 5/5] END ....C=1000, penalty=l1, solver=lbfgs;, score=nan total time=   0.0s\n",
      "[CV 1/5] END C=1000, penalty=l1, solver=liblinear;, score=0.759 total time=   0.0s\n",
      "[CV 2/5] END C=1000, penalty=l1, solver=liblinear;, score=0.765 total time=   0.0s\n",
      "[CV 3/5] END C=1000, penalty=l1, solver=liblinear;, score=0.774 total time=   0.0s\n",
      "[CV 4/5] END C=1000, penalty=l1, solver=liblinear;, score=0.800 total time=   0.0s\n",
      "[CV 5/5] END C=1000, penalty=l1, solver=liblinear;, score=0.791 total time=   0.0s\n",
      "[CV 1/5] END ......C=1000, penalty=l1, solver=sag;, score=nan total time=   0.0s\n",
      "[CV 2/5] END ......C=1000, penalty=l1, solver=sag;, score=nan total time=   0.0s\n",
      "[CV 3/5] END ......C=1000, penalty=l1, solver=sag;, score=nan total time=   0.0s\n",
      "[CV 4/5] END ......C=1000, penalty=l1, solver=sag;, score=nan total time=   0.0s\n",
      "[CV 5/5] END ......C=1000, penalty=l1, solver=sag;, score=nan total time=   0.0s\n",
      "[CV 1/5] END ...C=1000, penalty=l1, solver=saga;, score=0.690 total time=   0.0s\n",
      "[CV 2/5] END ...C=1000, penalty=l1, solver=saga;, score=0.722 total time=   0.0s\n",
      "[CV 3/5] END ...C=1000, penalty=l1, solver=saga;, score=0.661 total time=   0.0s\n",
      "[CV 4/5] END ...C=1000, penalty=l1, solver=saga;, score=0.652 total time=   0.0s\n",
      "[CV 5/5] END ...C=1000, penalty=l1, solver=saga;, score=0.635 total time=   0.0s\n",
      "[CV 1/5] END C=1000, penalty=l2, solver=newton-cg;, score=0.759 total time=   0.0s\n",
      "[CV 2/5] END C=1000, penalty=l2, solver=newton-cg;, score=0.765 total time=   0.0s\n",
      "[CV 3/5] END C=1000, penalty=l2, solver=newton-cg;, score=0.774 total time=   0.0s\n",
      "[CV 4/5] END C=1000, penalty=l2, solver=newton-cg;, score=0.800 total time=   0.0s\n",
      "[CV 5/5] END C=1000, penalty=l2, solver=newton-cg;, score=0.791 total time=   0.0s\n",
      "[CV 1/5] END ..C=1000, penalty=l2, solver=lbfgs;, score=0.759 total time=   0.0s\n",
      "[CV 2/5] END ..C=1000, penalty=l2, solver=lbfgs;, score=0.765 total time=   0.0s\n",
      "[CV 3/5] END ..C=1000, penalty=l2, solver=lbfgs;, score=0.783 total time=   0.0s\n",
      "[CV 4/5] END ..C=1000, penalty=l2, solver=lbfgs;, score=0.800 total time=   0.0s\n",
      "[CV 5/5] END ..C=1000, penalty=l2, solver=lbfgs;, score=0.791 total time=   0.0s\n",
      "[CV 1/5] END C=1000, penalty=l2, solver=liblinear;, score=0.759 total time=   0.0s\n",
      "[CV 2/5] END C=1000, penalty=l2, solver=liblinear;, score=0.765 total time=   0.0s\n",
      "[CV 3/5] END C=1000, penalty=l2, solver=liblinear;, score=0.765 total time=   0.0s\n",
      "[CV 4/5] END C=1000, penalty=l2, solver=liblinear;, score=0.800 total time=   0.0s\n",
      "[CV 5/5] END C=1000, penalty=l2, solver=liblinear;, score=0.791 total time=   0.0s\n",
      "[CV 1/5] END ....C=1000, penalty=l2, solver=sag;, score=0.681 total time=   0.0s\n",
      "[CV 2/5] END ....C=1000, penalty=l2, solver=sag;, score=0.748 total time=   0.0s\n",
      "[CV 3/5] END ....C=1000, penalty=l2, solver=sag;, score=0.670 total time=   0.0s\n",
      "[CV 4/5] END ....C=1000, penalty=l2, solver=sag;, score=0.661 total time=   0.0s\n",
      "[CV 5/5] END ....C=1000, penalty=l2, solver=sag;, score=0.643 total time=   0.0s\n",
      "[CV 1/5] END ...C=1000, penalty=l2, solver=saga;, score=0.690 total time=   0.0s\n",
      "[CV 2/5] END ...C=1000, penalty=l2, solver=saga;, score=0.722 total time=   0.0s\n",
      "[CV 3/5] END ...C=1000, penalty=l2, solver=saga;, score=0.661 total time=   0.0s\n",
      "[CV 4/5] END ...C=1000, penalty=l2, solver=saga;, score=0.652 total time=   0.0s\n",
      "[CV 5/5] END ...C=1000, penalty=l2, solver=saga;, score=0.635 total time=   0.0s\n"
     ]
    },
    {
     "data": {
      "text/html": [
       "<style>#sk-container-id-2 {color: black;}#sk-container-id-2 pre{padding: 0;}#sk-container-id-2 div.sk-toggleable {background-color: white;}#sk-container-id-2 label.sk-toggleable__label {cursor: pointer;display: block;width: 100%;margin-bottom: 0;padding: 0.3em;box-sizing: border-box;text-align: center;}#sk-container-id-2 label.sk-toggleable__label-arrow:before {content: \"▸\";float: left;margin-right: 0.25em;color: #696969;}#sk-container-id-2 label.sk-toggleable__label-arrow:hover:before {color: black;}#sk-container-id-2 div.sk-estimator:hover label.sk-toggleable__label-arrow:before {color: black;}#sk-container-id-2 div.sk-toggleable__content {max-height: 0;max-width: 0;overflow: hidden;text-align: left;background-color: #f0f8ff;}#sk-container-id-2 div.sk-toggleable__content pre {margin: 0.2em;color: black;border-radius: 0.25em;background-color: #f0f8ff;}#sk-container-id-2 input.sk-toggleable__control:checked~div.sk-toggleable__content {max-height: 200px;max-width: 100%;overflow: auto;}#sk-container-id-2 input.sk-toggleable__control:checked~label.sk-toggleable__label-arrow:before {content: \"▾\";}#sk-container-id-2 div.sk-estimator input.sk-toggleable__control:checked~label.sk-toggleable__label {background-color: #d4ebff;}#sk-container-id-2 div.sk-label input.sk-toggleable__control:checked~label.sk-toggleable__label {background-color: #d4ebff;}#sk-container-id-2 input.sk-hidden--visually {border: 0;clip: rect(1px 1px 1px 1px);clip: rect(1px, 1px, 1px, 1px);height: 1px;margin: -1px;overflow: hidden;padding: 0;position: absolute;width: 1px;}#sk-container-id-2 div.sk-estimator {font-family: monospace;background-color: #f0f8ff;border: 1px dotted black;border-radius: 0.25em;box-sizing: border-box;margin-bottom: 0.5em;}#sk-container-id-2 div.sk-estimator:hover {background-color: #d4ebff;}#sk-container-id-2 div.sk-parallel-item::after {content: \"\";width: 100%;border-bottom: 1px solid gray;flex-grow: 1;}#sk-container-id-2 div.sk-label:hover label.sk-toggleable__label {background-color: #d4ebff;}#sk-container-id-2 div.sk-serial::before {content: \"\";position: absolute;border-left: 1px solid gray;box-sizing: border-box;top: 0;bottom: 0;left: 50%;z-index: 0;}#sk-container-id-2 div.sk-serial {display: flex;flex-direction: column;align-items: center;background-color: white;padding-right: 0.2em;padding-left: 0.2em;position: relative;}#sk-container-id-2 div.sk-item {position: relative;z-index: 1;}#sk-container-id-2 div.sk-parallel {display: flex;align-items: stretch;justify-content: center;background-color: white;position: relative;}#sk-container-id-2 div.sk-item::before, #sk-container-id-2 div.sk-parallel-item::before {content: \"\";position: absolute;border-left: 1px solid gray;box-sizing: border-box;top: 0;bottom: 0;left: 50%;z-index: -1;}#sk-container-id-2 div.sk-parallel-item {display: flex;flex-direction: column;z-index: 1;position: relative;background-color: white;}#sk-container-id-2 div.sk-parallel-item:first-child::after {align-self: flex-end;width: 50%;}#sk-container-id-2 div.sk-parallel-item:last-child::after {align-self: flex-start;width: 50%;}#sk-container-id-2 div.sk-parallel-item:only-child::after {width: 0;}#sk-container-id-2 div.sk-dashed-wrapped {border: 1px dashed gray;margin: 0 0.4em 0.5em 0.4em;box-sizing: border-box;padding-bottom: 0.4em;background-color: white;}#sk-container-id-2 div.sk-label label {font-family: monospace;font-weight: bold;display: inline-block;line-height: 1.2em;}#sk-container-id-2 div.sk-label-container {text-align: center;}#sk-container-id-2 div.sk-container {/* jupyter's `normalize.less` sets `[hidden] { display: none; }` but bootstrap.min.css set `[hidden] { display: none !important; }` so we also need the `!important` here to be able to override the default hidden behavior on the sphinx rendered scikit-learn.org. See: https://github.com/scikit-learn/scikit-learn/issues/21755 */display: inline-block !important;position: relative;}#sk-container-id-2 div.sk-text-repr-fallback {display: none;}</style><div id=\"sk-container-id-2\" class=\"sk-top-container\"><div class=\"sk-text-repr-fallback\"><pre>GridSearchCV(estimator=LogisticRegression(),\n",
       "             param_grid={&#x27;C&#x27;: [0.001, 0.1, 1, 2, 100, 1000],\n",
       "                         &#x27;penalty&#x27;: [&#x27;l1&#x27;, &#x27;l2&#x27;],\n",
       "                         &#x27;solver&#x27;: [&#x27;newton-cg&#x27;, &#x27;lbfgs&#x27;, &#x27;liblinear&#x27;, &#x27;sag&#x27;,\n",
       "                                    &#x27;saga&#x27;]},\n",
       "             scoring=&#x27;accuracy&#x27;, verbose=3)</pre><b>In a Jupyter environment, please rerun this cell to show the HTML representation or trust the notebook. <br />On GitHub, the HTML representation is unable to render, please try loading this page with nbviewer.org.</b></div><div class=\"sk-container\" hidden><div class=\"sk-item sk-dashed-wrapped\"><div class=\"sk-label-container\"><div class=\"sk-label sk-toggleable\"><input class=\"sk-toggleable__control sk-hidden--visually\" id=\"sk-estimator-id-2\" type=\"checkbox\" ><label for=\"sk-estimator-id-2\" class=\"sk-toggleable__label sk-toggleable__label-arrow\">GridSearchCV</label><div class=\"sk-toggleable__content\"><pre>GridSearchCV(estimator=LogisticRegression(),\n",
       "             param_grid={&#x27;C&#x27;: [0.001, 0.1, 1, 2, 100, 1000],\n",
       "                         &#x27;penalty&#x27;: [&#x27;l1&#x27;, &#x27;l2&#x27;],\n",
       "                         &#x27;solver&#x27;: [&#x27;newton-cg&#x27;, &#x27;lbfgs&#x27;, &#x27;liblinear&#x27;, &#x27;sag&#x27;,\n",
       "                                    &#x27;saga&#x27;]},\n",
       "             scoring=&#x27;accuracy&#x27;, verbose=3)</pre></div></div></div><div class=\"sk-parallel\"><div class=\"sk-parallel-item\"><div class=\"sk-item\"><div class=\"sk-label-container\"><div class=\"sk-label sk-toggleable\"><input class=\"sk-toggleable__control sk-hidden--visually\" id=\"sk-estimator-id-3\" type=\"checkbox\" ><label for=\"sk-estimator-id-3\" class=\"sk-toggleable__label sk-toggleable__label-arrow\">estimator: LogisticRegression</label><div class=\"sk-toggleable__content\"><pre>LogisticRegression()</pre></div></div></div><div class=\"sk-serial\"><div class=\"sk-item\"><div class=\"sk-estimator sk-toggleable\"><input class=\"sk-toggleable__control sk-hidden--visually\" id=\"sk-estimator-id-4\" type=\"checkbox\" ><label for=\"sk-estimator-id-4\" class=\"sk-toggleable__label sk-toggleable__label-arrow\">LogisticRegression</label><div class=\"sk-toggleable__content\"><pre>LogisticRegression()</pre></div></div></div></div></div></div></div></div></div></div>"
      ],
      "text/plain": [
       "GridSearchCV(estimator=LogisticRegression(),\n",
       "             param_grid={'C': [0.001, 0.1, 1, 2, 100, 1000],\n",
       "                         'penalty': ['l1', 'l2'],\n",
       "                         'solver': ['newton-cg', 'lbfgs', 'liblinear', 'sag',\n",
       "                                    'saga']},\n",
       "             scoring='accuracy', verbose=3)"
      ]
     },
     "execution_count": 14,
     "metadata": {},
     "output_type": "execute_result"
    }
   ],
   "source": [
    "grid_clf_acc.fit(X_train, y_train)"
   ]
  },
  {
   "cell_type": "code",
   "execution_count": 15,
   "metadata": {
    "tags": []
   },
   "outputs": [],
   "source": [
    "#Predict values based on new parameters\n",
    "y_pred_acc = grid_clf_acc.predict(X_test)"
   ]
  },
  {
   "cell_type": "code",
   "execution_count": 16,
   "metadata": {
    "tags": []
   },
   "outputs": [
    {
     "name": "stdout",
     "output_type": "stream",
     "text": [
      "Accuracy Score : 0.734375\n",
      "Precision Score : 0.7269728203781513\n",
      "Recall Score : 0.734375\n",
      "F1 Score : 0.7280949210354173\n"
     ]
    }
   ],
   "source": [
    "# New Model Evaluation metrics \n",
    "print('Accuracy Score : ' + str(accuracy_score(y_test,y_pred_acc)))\n",
    "print('Precision Score : ' + str(precision_score(y_test,y_pred_acc,average=\"weighted\")))\n",
    "print('Recall Score : ' + str(recall_score(y_test,y_pred_acc,average=\"weighted\")))\n",
    "print('F1 Score : ' + str(f1_score(y_test,y_pred_acc,average=\"weighted\")))"
   ]
  },
  {
   "cell_type": "code",
   "execution_count": 17,
   "metadata": {
    "tags": []
   },
   "outputs": [
    {
     "data": {
      "text/plain": [
       "{'C': 0.1, 'penalty': 'l2', 'solver': 'lbfgs'}"
      ]
     },
     "execution_count": 17,
     "metadata": {},
     "output_type": "execute_result"
    }
   ],
   "source": [
    "grid_clf_acc.best_params_"
   ]
  },
  {
   "cell_type": "code",
   "execution_count": 18,
   "metadata": {
    "tags": []
   },
   "outputs": [
    {
     "data": {
      "text/html": [
       "<style>#sk-container-id-3 {color: black;}#sk-container-id-3 pre{padding: 0;}#sk-container-id-3 div.sk-toggleable {background-color: white;}#sk-container-id-3 label.sk-toggleable__label {cursor: pointer;display: block;width: 100%;margin-bottom: 0;padding: 0.3em;box-sizing: border-box;text-align: center;}#sk-container-id-3 label.sk-toggleable__label-arrow:before {content: \"▸\";float: left;margin-right: 0.25em;color: #696969;}#sk-container-id-3 label.sk-toggleable__label-arrow:hover:before {color: black;}#sk-container-id-3 div.sk-estimator:hover label.sk-toggleable__label-arrow:before {color: black;}#sk-container-id-3 div.sk-toggleable__content {max-height: 0;max-width: 0;overflow: hidden;text-align: left;background-color: #f0f8ff;}#sk-container-id-3 div.sk-toggleable__content pre {margin: 0.2em;color: black;border-radius: 0.25em;background-color: #f0f8ff;}#sk-container-id-3 input.sk-toggleable__control:checked~div.sk-toggleable__content {max-height: 200px;max-width: 100%;overflow: auto;}#sk-container-id-3 input.sk-toggleable__control:checked~label.sk-toggleable__label-arrow:before {content: \"▾\";}#sk-container-id-3 div.sk-estimator input.sk-toggleable__control:checked~label.sk-toggleable__label {background-color: #d4ebff;}#sk-container-id-3 div.sk-label input.sk-toggleable__control:checked~label.sk-toggleable__label {background-color: #d4ebff;}#sk-container-id-3 input.sk-hidden--visually {border: 0;clip: rect(1px 1px 1px 1px);clip: rect(1px, 1px, 1px, 1px);height: 1px;margin: -1px;overflow: hidden;padding: 0;position: absolute;width: 1px;}#sk-container-id-3 div.sk-estimator {font-family: monospace;background-color: #f0f8ff;border: 1px dotted black;border-radius: 0.25em;box-sizing: border-box;margin-bottom: 0.5em;}#sk-container-id-3 div.sk-estimator:hover {background-color: #d4ebff;}#sk-container-id-3 div.sk-parallel-item::after {content: \"\";width: 100%;border-bottom: 1px solid gray;flex-grow: 1;}#sk-container-id-3 div.sk-label:hover label.sk-toggleable__label {background-color: #d4ebff;}#sk-container-id-3 div.sk-serial::before {content: \"\";position: absolute;border-left: 1px solid gray;box-sizing: border-box;top: 0;bottom: 0;left: 50%;z-index: 0;}#sk-container-id-3 div.sk-serial {display: flex;flex-direction: column;align-items: center;background-color: white;padding-right: 0.2em;padding-left: 0.2em;position: relative;}#sk-container-id-3 div.sk-item {position: relative;z-index: 1;}#sk-container-id-3 div.sk-parallel {display: flex;align-items: stretch;justify-content: center;background-color: white;position: relative;}#sk-container-id-3 div.sk-item::before, #sk-container-id-3 div.sk-parallel-item::before {content: \"\";position: absolute;border-left: 1px solid gray;box-sizing: border-box;top: 0;bottom: 0;left: 50%;z-index: -1;}#sk-container-id-3 div.sk-parallel-item {display: flex;flex-direction: column;z-index: 1;position: relative;background-color: white;}#sk-container-id-3 div.sk-parallel-item:first-child::after {align-self: flex-end;width: 50%;}#sk-container-id-3 div.sk-parallel-item:last-child::after {align-self: flex-start;width: 50%;}#sk-container-id-3 div.sk-parallel-item:only-child::after {width: 0;}#sk-container-id-3 div.sk-dashed-wrapped {border: 1px dashed gray;margin: 0 0.4em 0.5em 0.4em;box-sizing: border-box;padding-bottom: 0.4em;background-color: white;}#sk-container-id-3 div.sk-label label {font-family: monospace;font-weight: bold;display: inline-block;line-height: 1.2em;}#sk-container-id-3 div.sk-label-container {text-align: center;}#sk-container-id-3 div.sk-container {/* jupyter's `normalize.less` sets `[hidden] { display: none; }` but bootstrap.min.css set `[hidden] { display: none !important; }` so we also need the `!important` here to be able to override the default hidden behavior on the sphinx rendered scikit-learn.org. See: https://github.com/scikit-learn/scikit-learn/issues/21755 */display: inline-block !important;position: relative;}#sk-container-id-3 div.sk-text-repr-fallback {display: none;}</style><div id=\"sk-container-id-3\" class=\"sk-top-container\"><div class=\"sk-text-repr-fallback\"><pre>LogisticRegression(C=0.1)</pre><b>In a Jupyter environment, please rerun this cell to show the HTML representation or trust the notebook. <br />On GitHub, the HTML representation is unable to render, please try loading this page with nbviewer.org.</b></div><div class=\"sk-container\" hidden><div class=\"sk-item\"><div class=\"sk-estimator sk-toggleable\"><input class=\"sk-toggleable__control sk-hidden--visually\" id=\"sk-estimator-id-5\" type=\"checkbox\" checked><label for=\"sk-estimator-id-5\" class=\"sk-toggleable__label sk-toggleable__label-arrow\">LogisticRegression</label><div class=\"sk-toggleable__content\"><pre>LogisticRegression(C=0.1)</pre></div></div></div></div></div>"
      ],
      "text/plain": [
       "LogisticRegression(C=0.1)"
      ]
     },
     "execution_count": 18,
     "metadata": {},
     "output_type": "execute_result"
    }
   ],
   "source": [
    "grid_clf_acc.best_estimator_"
   ]
  },
  {
   "cell_type": "code",
   "execution_count": 19,
   "metadata": {
    "tags": []
   },
   "outputs": [],
   "source": [
    "model = LogisticRegression(C=0.1, penalty='l2',solver='lbfgs')"
   ]
  },
  {
   "cell_type": "code",
   "execution_count": 20,
   "metadata": {
    "tags": []
   },
   "outputs": [
    {
     "data": {
      "text/html": [
       "<style>#sk-container-id-4 {color: black;}#sk-container-id-4 pre{padding: 0;}#sk-container-id-4 div.sk-toggleable {background-color: white;}#sk-container-id-4 label.sk-toggleable__label {cursor: pointer;display: block;width: 100%;margin-bottom: 0;padding: 0.3em;box-sizing: border-box;text-align: center;}#sk-container-id-4 label.sk-toggleable__label-arrow:before {content: \"▸\";float: left;margin-right: 0.25em;color: #696969;}#sk-container-id-4 label.sk-toggleable__label-arrow:hover:before {color: black;}#sk-container-id-4 div.sk-estimator:hover label.sk-toggleable__label-arrow:before {color: black;}#sk-container-id-4 div.sk-toggleable__content {max-height: 0;max-width: 0;overflow: hidden;text-align: left;background-color: #f0f8ff;}#sk-container-id-4 div.sk-toggleable__content pre {margin: 0.2em;color: black;border-radius: 0.25em;background-color: #f0f8ff;}#sk-container-id-4 input.sk-toggleable__control:checked~div.sk-toggleable__content {max-height: 200px;max-width: 100%;overflow: auto;}#sk-container-id-4 input.sk-toggleable__control:checked~label.sk-toggleable__label-arrow:before {content: \"▾\";}#sk-container-id-4 div.sk-estimator input.sk-toggleable__control:checked~label.sk-toggleable__label {background-color: #d4ebff;}#sk-container-id-4 div.sk-label input.sk-toggleable__control:checked~label.sk-toggleable__label {background-color: #d4ebff;}#sk-container-id-4 input.sk-hidden--visually {border: 0;clip: rect(1px 1px 1px 1px);clip: rect(1px, 1px, 1px, 1px);height: 1px;margin: -1px;overflow: hidden;padding: 0;position: absolute;width: 1px;}#sk-container-id-4 div.sk-estimator {font-family: monospace;background-color: #f0f8ff;border: 1px dotted black;border-radius: 0.25em;box-sizing: border-box;margin-bottom: 0.5em;}#sk-container-id-4 div.sk-estimator:hover {background-color: #d4ebff;}#sk-container-id-4 div.sk-parallel-item::after {content: \"\";width: 100%;border-bottom: 1px solid gray;flex-grow: 1;}#sk-container-id-4 div.sk-label:hover label.sk-toggleable__label {background-color: #d4ebff;}#sk-container-id-4 div.sk-serial::before {content: \"\";position: absolute;border-left: 1px solid gray;box-sizing: border-box;top: 0;bottom: 0;left: 50%;z-index: 0;}#sk-container-id-4 div.sk-serial {display: flex;flex-direction: column;align-items: center;background-color: white;padding-right: 0.2em;padding-left: 0.2em;position: relative;}#sk-container-id-4 div.sk-item {position: relative;z-index: 1;}#sk-container-id-4 div.sk-parallel {display: flex;align-items: stretch;justify-content: center;background-color: white;position: relative;}#sk-container-id-4 div.sk-item::before, #sk-container-id-4 div.sk-parallel-item::before {content: \"\";position: absolute;border-left: 1px solid gray;box-sizing: border-box;top: 0;bottom: 0;left: 50%;z-index: -1;}#sk-container-id-4 div.sk-parallel-item {display: flex;flex-direction: column;z-index: 1;position: relative;background-color: white;}#sk-container-id-4 div.sk-parallel-item:first-child::after {align-self: flex-end;width: 50%;}#sk-container-id-4 div.sk-parallel-item:last-child::after {align-self: flex-start;width: 50%;}#sk-container-id-4 div.sk-parallel-item:only-child::after {width: 0;}#sk-container-id-4 div.sk-dashed-wrapped {border: 1px dashed gray;margin: 0 0.4em 0.5em 0.4em;box-sizing: border-box;padding-bottom: 0.4em;background-color: white;}#sk-container-id-4 div.sk-label label {font-family: monospace;font-weight: bold;display: inline-block;line-height: 1.2em;}#sk-container-id-4 div.sk-label-container {text-align: center;}#sk-container-id-4 div.sk-container {/* jupyter's `normalize.less` sets `[hidden] { display: none; }` but bootstrap.min.css set `[hidden] { display: none !important; }` so we also need the `!important` here to be able to override the default hidden behavior on the sphinx rendered scikit-learn.org. See: https://github.com/scikit-learn/scikit-learn/issues/21755 */display: inline-block !important;position: relative;}#sk-container-id-4 div.sk-text-repr-fallback {display: none;}</style><div id=\"sk-container-id-4\" class=\"sk-top-container\"><div class=\"sk-text-repr-fallback\"><pre>LogisticRegression(C=0.1)</pre><b>In a Jupyter environment, please rerun this cell to show the HTML representation or trust the notebook. <br />On GitHub, the HTML representation is unable to render, please try loading this page with nbviewer.org.</b></div><div class=\"sk-container\" hidden><div class=\"sk-item\"><div class=\"sk-estimator sk-toggleable\"><input class=\"sk-toggleable__control sk-hidden--visually\" id=\"sk-estimator-id-6\" type=\"checkbox\" checked><label for=\"sk-estimator-id-6\" class=\"sk-toggleable__label sk-toggleable__label-arrow\">LogisticRegression</label><div class=\"sk-toggleable__content\"><pre>LogisticRegression(C=0.1)</pre></div></div></div></div></div>"
      ],
      "text/plain": [
       "LogisticRegression(C=0.1)"
      ]
     },
     "execution_count": 20,
     "metadata": {},
     "output_type": "execute_result"
    }
   ],
   "source": [
    "model.fit(X_train, y_train)"
   ]
  },
  {
   "cell_type": "code",
   "execution_count": 21,
   "metadata": {
    "tags": []
   },
   "outputs": [
    {
     "data": {
      "text/plain": [
       "0.7916666666666666"
      ]
     },
     "execution_count": 21,
     "metadata": {},
     "output_type": "execute_result"
    }
   ],
   "source": [
    "model.score(X_train, y_train)"
   ]
  }
 ],
 "metadata": {
  "kernelspec": {
   "display_name": "Python 3 (ipykernel)",
   "language": "python",
   "name": "python3"
  },
  "language_info": {
   "codemirror_mode": {
    "name": "ipython",
    "version": 3
   },
   "file_extension": ".py",
   "mimetype": "text/x-python",
   "name": "python",
   "nbconvert_exporter": "python",
   "pygments_lexer": "ipython3",
   "version": "3.11.5"
  }
 },
 "nbformat": 4,
 "nbformat_minor": 4
}
