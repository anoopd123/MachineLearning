{
 "cells": [
  {
   "cell_type": "markdown",
   "id": "aa9e9965-a15c-4dd2-b23f-af18a17e278c",
   "metadata": {},
   "source": [
    "### Make predictions using a saved model"
   ]
  },
  {
   "cell_type": "code",
   "execution_count": 22,
   "id": "e591baf1-5943-4260-959d-b03b7d7976d3",
   "metadata": {
    "tags": []
   },
   "outputs": [],
   "source": [
    "import pickle"
   ]
  },
  {
   "cell_type": "code",
   "execution_count": 23,
   "id": "c0ebc060-2110-4b8c-a380-3e4caf663538",
   "metadata": {
    "tags": []
   },
   "outputs": [],
   "source": [
    "f=open(\"mymodel.pkl\",\"rb\")"
   ]
  },
  {
   "cell_type": "code",
   "execution_count": 24,
   "id": "65056cd3-a705-44c8-b97c-0d93a22d70ec",
   "metadata": {
    "tags": []
   },
   "outputs": [],
   "source": [
    "retrieved_model = pickle.load(f)"
   ]
  },
  {
   "cell_type": "code",
   "execution_count": 25,
   "id": "45053a6f-7e3b-4951-9563-2b440d9328ed",
   "metadata": {
    "tags": []
   },
   "outputs": [],
   "source": [
    "f.close()"
   ]
  },
  {
   "cell_type": "code",
   "execution_count": 26,
   "id": "bb23546f-2cce-4e9e-8ced-b5038cc1014f",
   "metadata": {
    "tags": []
   },
   "outputs": [
    {
     "data": {
      "text/plain": [
       "sklearn.linear_model._base.LinearRegression"
      ]
     },
     "execution_count": 26,
     "metadata": {},
     "output_type": "execute_result"
    }
   ],
   "source": [
    "type(retrieved_model)"
   ]
  },
  {
   "cell_type": "markdown",
   "id": "3f6e052c-bc73-4620-9011-dea0e41785e3",
   "metadata": {
    "tags": []
   },
   "source": [
    "### make predictions"
   ]
  },
  {
   "cell_type": "code",
   "execution_count": 27,
   "id": "7c20bbd9-b72c-4e46-9a88-c35ad38fec6d",
   "metadata": {
    "tags": []
   },
   "outputs": [
    {
     "name": "stderr",
     "output_type": "stream",
     "text": [
      "C:\\Users\\Admin\\anaconda3\\Lib\\site-packages\\sklearn\\base.py:464: UserWarning: X does not have valid feature names, but LinearRegression was fitted with feature names\n",
      "  warnings.warn(\n"
     ]
    },
    {
     "data": {
      "text/plain": [
       "array([46582.11730587])"
      ]
     },
     "execution_count": 27,
     "metadata": {},
     "output_type": "execute_result"
    }
   ],
   "source": [
    "retrieved_model.predict([[2.2]])"
   ]
  },
  {
   "cell_type": "code",
   "execution_count": null,
   "id": "c9a44870-01c3-4943-ae0b-74d916a7bb26",
   "metadata": {},
   "outputs": [],
   "source": []
  }
 ],
 "metadata": {
  "kernelspec": {
   "display_name": "Python 3 (ipykernel)",
   "language": "python",
   "name": "python3"
  },
  "language_info": {
   "codemirror_mode": {
    "name": "ipython",
    "version": 3
   },
   "file_extension": ".py",
   "mimetype": "text/x-python",
   "name": "python",
   "nbconvert_exporter": "python",
   "pygments_lexer": "ipython3",
   "version": "3.11.5"
  }
 },
 "nbformat": 4,
 "nbformat_minor": 5
}
