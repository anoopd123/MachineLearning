{
 "cells": [
  {
   "cell_type": "markdown",
   "id": "989417e1-9bda-4780-a3ff-b80446298fb6",
   "metadata": {},
   "source": [
    "## Model Evaluation"
   ]
  },
  {
   "cell_type": "code",
   "execution_count": 4,
   "id": "1a9caddf-2e68-4221-b3b3-54d5dc0e7390",
   "metadata": {
    "tags": []
   },
   "outputs": [],
   "source": [
    "from sklearn.metrics import mean_absolute_percentage_error as mape\n",
    "from sklearn.metrics import mean_absolute_error as mae\n",
    "from sklearn.metrics import median_absolute_error as mde\n",
    "from sklearn.metrics import mean_squared_error as mse\n",
    "from sklearn.metrics import r2_score as r2"
   ]
  },
  {
   "cell_type": "code",
   "execution_count": 5,
   "id": "75c13689-8d8b-4dbd-9e2c-f2dacbe5248d",
   "metadata": {
    "tags": []
   },
   "outputs": [],
   "source": [
    "original  = [1,2,3,4,5,6,7,8,9]\n",
    "predicted = [1,2,3,4,5,6,7,8,9]"
   ]
  },
  {
   "cell_type": "code",
   "execution_count": 6,
   "id": "e48c0077-3c48-4f84-9139-25359208643d",
   "metadata": {
    "tags": []
   },
   "outputs": [
    {
     "name": "stdout",
     "output_type": "stream",
     "text": [
      "mape =  0.0\n",
      "mae =  0.0\n",
      "mde =  0.0\n",
      "mse =  0.0\n",
      "r2 =  1.0\n"
     ]
    }
   ],
   "source": [
    "print(\"mape = \", mape(original, predicted))\n",
    "print(\"mae = \", mae(original, predicted))\n",
    "print(\"mde = \", mde(original, predicted))\n",
    "print(\"mse = \", mse(original, predicted))\n",
    "print(\"r2 = \", r2(original, predicted))"
   ]
  },
  {
   "cell_type": "code",
   "execution_count": null,
   "id": "522ff2c6-0384-4b25-a001-dad49235a2fb",
   "metadata": {},
   "outputs": [],
   "source": []
  }
 ],
 "metadata": {
  "kernelspec": {
   "display_name": "Python 3 (ipykernel)",
   "language": "python",
   "name": "python3"
  },
  "language_info": {
   "codemirror_mode": {
    "name": "ipython",
    "version": 3
   },
   "file_extension": ".py",
   "mimetype": "text/x-python",
   "name": "python",
   "nbconvert_exporter": "python",
   "pygments_lexer": "ipython3",
   "version": "3.11.5"
  }
 },
 "nbformat": 4,
 "nbformat_minor": 5
}
