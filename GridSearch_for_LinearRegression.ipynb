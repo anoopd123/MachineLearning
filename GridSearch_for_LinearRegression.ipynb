{
 "cells": [
  {
   "cell_type": "code",
   "execution_count": 1,
   "id": "285f7d70",
   "metadata": {
    "tags": []
   },
   "outputs": [],
   "source": [
    "from sklearn.linear_model import LinearRegression\n",
    "from sklearn.model_selection import GridSearchCV\n",
    "from sklearn.metrics import mean_squared_error\n",
    "from sklearn.datasets import make_regression\n",
    "from sklearn.model_selection import train_test_split"
   ]
  },
  {
   "cell_type": "code",
   "execution_count": 2,
   "id": "55d24923",
   "metadata": {
    "tags": []
   },
   "outputs": [],
   "source": [
    "# Generate some random data for demonstration\n",
    "X, y = make_regression(n_samples=100, n_features=1, noise=0.2, random_state=42)"
   ]
  },
  {
   "cell_type": "code",
   "execution_count": 3,
   "id": "abc766a3-627f-4e22-b749-6b349e3ae842",
   "metadata": {
    "tags": []
   },
   "outputs": [
    {
     "data": {
      "text/plain": [
       "(100, 1)"
      ]
     },
     "execution_count": 3,
     "metadata": {},
     "output_type": "execute_result"
    }
   ],
   "source": [
    "X.shape"
   ]
  },
  {
   "cell_type": "code",
   "execution_count": 4,
   "id": "ad0f9221-270c-4343-ba53-531db4c1497f",
   "metadata": {
    "tags": []
   },
   "outputs": [
    {
     "data": {
      "text/plain": [
       "array([[ 0.93128012],\n",
       "       [ 0.08704707],\n",
       "       [-1.05771093],\n",
       "       [ 0.31424733],\n",
       "       [-0.47917424],\n",
       "       [ 0.64768854],\n",
       "       [-0.46341769],\n",
       "       [ 0.54256004],\n",
       "       [ 0.61167629],\n",
       "       [ 1.0035329 ],\n",
       "       [ 0.8219025 ],\n",
       "       [ 1.53803657],\n",
       "       [ 0.73846658],\n",
       "       [-0.21967189],\n",
       "       [-0.8084936 ],\n",
       "       [ 0.09176078],\n",
       "       [-1.95967012],\n",
       "       [ 0.51326743],\n",
       "       [ 1.03099952],\n",
       "       [-2.6197451 ],\n",
       "       [ 0.49671415],\n",
       "       [ 0.09707755],\n",
       "       [-0.46572975],\n",
       "       [ 0.91540212],\n",
       "       [ 1.56464366],\n",
       "       [ 1.46564877],\n",
       "       [-0.60063869],\n",
       "       [-0.03582604],\n",
       "       [-0.60170661],\n",
       "       [-1.19620662],\n",
       "       [ 0.35711257],\n",
       "       [ 0.37569802],\n",
       "       [ 0.26105527],\n",
       "       [-0.5297602 ],\n",
       "       [-0.90802408],\n",
       "       [ 0.19686124],\n",
       "       [-0.29900735],\n",
       "       [ 0.36163603],\n",
       "       [ 0.82254491],\n",
       "       [-0.29169375],\n",
       "       [ 0.36139561],\n",
       "       [-0.676922  ],\n",
       "       [ 1.52302986],\n",
       "       [-0.51827022],\n",
       "       [-0.23415337],\n",
       "       [-0.39210815],\n",
       "       [-0.3011037 ],\n",
       "       [-0.64511975],\n",
       "       [ 0.32875111],\n",
       "       [ 0.2088636 ],\n",
       "       [-0.32766215],\n",
       "       [ 0.00511346],\n",
       "       [-0.23413696],\n",
       "       [ 1.47789404],\n",
       "       [-0.38508228],\n",
       "       [ 0.34361829],\n",
       "       [ 0.33126343],\n",
       "       [-0.18565898],\n",
       "       [-0.23458713],\n",
       "       [-1.98756891],\n",
       "       [ 0.32408397],\n",
       "       [-0.2257763 ],\n",
       "       [-1.10633497],\n",
       "       [-0.70205309],\n",
       "       [-1.46351495],\n",
       "       [ 0.96864499],\n",
       "       [-1.72491783],\n",
       "       [-1.91328024],\n",
       "       [-0.56228753],\n",
       "       [ 0.76743473],\n",
       "       [ 0.81252582],\n",
       "       [-1.4123037 ],\n",
       "       [-1.47852199],\n",
       "       [-1.22084365],\n",
       "       [-0.83921752],\n",
       "       [ 1.57921282],\n",
       "       [ 0.97554513],\n",
       "       [ 0.24196227],\n",
       "       [ 0.29612028],\n",
       "       [-0.54438272],\n",
       "       [-1.76304016],\n",
       "       [ 0.11092259],\n",
       "       [ 0.17136828],\n",
       "       [-1.32818605],\n",
       "       [ 1.05712223],\n",
       "       [-0.11564828],\n",
       "       [-0.46947439],\n",
       "       [-0.01349722],\n",
       "       [-1.01283112],\n",
       "       [-0.1382643 ],\n",
       "       [-1.15099358],\n",
       "       [ 1.35624003],\n",
       "       [ 0.0675282 ],\n",
       "       [-0.50175704],\n",
       "       [-0.46063877],\n",
       "       [ 1.85227818],\n",
       "       [-1.42474819],\n",
       "       [-0.71984421],\n",
       "       [-0.07201012],\n",
       "       [-0.30921238]])"
      ]
     },
     "execution_count": 4,
     "metadata": {},
     "output_type": "execute_result"
    }
   ],
   "source": [
    "X"
   ]
  },
  {
   "cell_type": "code",
   "execution_count": 5,
   "id": "dd96b772-3d8e-45d6-8c4b-f4602919f9c5",
   "metadata": {
    "tags": []
   },
   "outputs": [
    {
     "data": {
      "text/plain": [
       "(100,)"
      ]
     },
     "execution_count": 5,
     "metadata": {},
     "output_type": "execute_result"
    }
   ],
   "source": [
    "y.shape"
   ]
  },
  {
   "cell_type": "code",
   "execution_count": 6,
   "id": "ad5c74e2-4fd2-40dc-bd35-44fc6ce5c46c",
   "metadata": {
    "tags": []
   },
   "outputs": [
    {
     "data": {
      "text/plain": [
       "array([  39.11080232,    3.3594662 ,  -43.96538547,   13.0652237 ,\n",
       "        -19.95600228,   27.12581951,  -19.55807077,   22.31235228,\n",
       "         25.49086799,   41.69766791,   34.33628725,   64.45301651,\n",
       "         30.9316748 ,   -8.92746991,  -34.02869364,    4.00593049,\n",
       "        -81.87189508,   21.39689305,   42.7470462 , -109.52457141,\n",
       "         20.654292  ,    4.02729725,  -19.6385896 ,   38.0172885 ,\n",
       "         65.49805491,   61.24575648,  -24.79027875,   -1.41052104,\n",
       "        -25.29202422,  -50.17435167,   15.01386367,   15.95885182,\n",
       "         10.79414124,  -22.1043778 ,  -38.01686587,    7.97262989,\n",
       "        -12.63525196,   14.94484971,   34.67525068,  -11.89715292,\n",
       "         15.23904569,  -28.32036731,   63.53972984,  -21.61441609,\n",
       "         -9.73083174,  -16.15791152,  -12.60058704,  -27.154094  ,\n",
       "         13.91786905,    8.72002514,  -13.52156857,    0.35546315,\n",
       "        -10.17759719,   62.23580801,  -15.56592555,   14.55177762,\n",
       "         13.95082829,   -7.58012968,   -9.77342929,  -83.01123235,\n",
       "         13.80039878,   -9.42562724,  -46.14467253,  -29.39496106,\n",
       "        -61.1571526 ,   40.58037588,  -72.13180474,  -79.94894448,\n",
       "        -23.4697127 ,   32.31436176,   34.12559134,  -59.03541012,\n",
       "        -61.7927876 ,  -50.78463938,  -34.76998346,   65.72946919,\n",
       "         40.96374117,   10.12024099,   12.17517687,  -22.87820114,\n",
       "        -73.48594635,    4.78465912,    6.97016243,  -55.31012976,\n",
       "         44.23666925,   -4.70317691,  -19.6000876 ,   -0.66207551,\n",
       "        -42.18113458,   -5.82913144,  -48.20410395,   56.87597222,\n",
       "          2.97216093,  -20.95079702,  -19.29891815,   77.3315085 ,\n",
       "        -59.70051548,  -30.22419179,   -2.8588815 ,  -13.08029403])"
      ]
     },
     "execution_count": 6,
     "metadata": {},
     "output_type": "execute_result"
    }
   ],
   "source": [
    "y"
   ]
  },
  {
   "cell_type": "code",
   "execution_count": 7,
   "id": "464b7a24",
   "metadata": {
    "tags": []
   },
   "outputs": [],
   "source": [
    "# Split the data into training and test sets\n",
    "X_train, X_test, y_train, y_test = train_test_split(X, y, test_size=0.2, random_state=42)"
   ]
  },
  {
   "cell_type": "code",
   "execution_count": 8,
   "id": "c227f107",
   "metadata": {
    "tags": []
   },
   "outputs": [],
   "source": [
    "# Create a Linear Regression model\n",
    "model = LinearRegression()"
   ]
  },
  {
   "cell_type": "code",
   "execution_count": 9,
   "id": "f264164a",
   "metadata": {
    "tags": []
   },
   "outputs": [],
   "source": [
    "# Define the hyperparameters to tune\n",
    "param_grid = {'fit_intercept': [True, False], 'positive': [True, False]}"
   ]
  },
  {
   "cell_type": "code",
   "execution_count": 10,
   "id": "43c4ea24",
   "metadata": {
    "tags": []
   },
   "outputs": [
    {
     "name": "stdout",
     "output_type": "stream",
     "text": [
      "Fitting 5 folds for each of 4 candidates, totalling 20 fits\n",
      "[CV 1/5] END .fit_intercept=True, positive=True;, score=1.000 total time=   0.0s\n",
      "[CV 2/5] END .fit_intercept=True, positive=True;, score=1.000 total time=   0.0s\n",
      "[CV 3/5] END .fit_intercept=True, positive=True;, score=1.000 total time=   0.0s\n",
      "[CV 4/5] END .fit_intercept=True, positive=True;, score=1.000 total time=   0.0s\n",
      "[CV 5/5] END .fit_intercept=True, positive=True;, score=1.000 total time=   0.0s\n",
      "[CV 1/5] END fit_intercept=True, positive=False;, score=1.000 total time=   0.0s\n",
      "[CV 2/5] END fit_intercept=True, positive=False;, score=1.000 total time=   0.0s\n",
      "[CV 3/5] END fit_intercept=True, positive=False;, score=1.000 total time=   0.0s\n",
      "[CV 4/5] END fit_intercept=True, positive=False;, score=1.000 total time=   0.0s\n",
      "[CV 5/5] END fit_intercept=True, positive=False;, score=1.000 total time=   0.0s\n",
      "[CV 1/5] END fit_intercept=False, positive=True;, score=1.000 total time=   0.0s\n",
      "[CV 2/5] END fit_intercept=False, positive=True;, score=1.000 total time=   0.0s\n",
      "[CV 3/5] END fit_intercept=False, positive=True;, score=1.000 total time=   0.0s\n",
      "[CV 4/5] END fit_intercept=False, positive=True;, score=1.000 total time=   0.0s\n",
      "[CV 5/5] END fit_intercept=False, positive=True;, score=1.000 total time=   0.0s\n",
      "[CV 1/5] END fit_intercept=False, positive=False;, score=1.000 total time=   0.0s\n",
      "[CV 2/5] END fit_intercept=False, positive=False;, score=1.000 total time=   0.0s\n",
      "[CV 3/5] END fit_intercept=False, positive=False;, score=1.000 total time=   0.0s\n",
      "[CV 4/5] END fit_intercept=False, positive=False;, score=1.000 total time=   0.0s\n",
      "[CV 5/5] END fit_intercept=False, positive=False;, score=1.000 total time=   0.0s\n"
     ]
    },
    {
     "data": {
      "text/html": [
       "<style>#sk-container-id-1 {color: black;}#sk-container-id-1 pre{padding: 0;}#sk-container-id-1 div.sk-toggleable {background-color: white;}#sk-container-id-1 label.sk-toggleable__label {cursor: pointer;display: block;width: 100%;margin-bottom: 0;padding: 0.3em;box-sizing: border-box;text-align: center;}#sk-container-id-1 label.sk-toggleable__label-arrow:before {content: \"▸\";float: left;margin-right: 0.25em;color: #696969;}#sk-container-id-1 label.sk-toggleable__label-arrow:hover:before {color: black;}#sk-container-id-1 div.sk-estimator:hover label.sk-toggleable__label-arrow:before {color: black;}#sk-container-id-1 div.sk-toggleable__content {max-height: 0;max-width: 0;overflow: hidden;text-align: left;background-color: #f0f8ff;}#sk-container-id-1 div.sk-toggleable__content pre {margin: 0.2em;color: black;border-radius: 0.25em;background-color: #f0f8ff;}#sk-container-id-1 input.sk-toggleable__control:checked~div.sk-toggleable__content {max-height: 200px;max-width: 100%;overflow: auto;}#sk-container-id-1 input.sk-toggleable__control:checked~label.sk-toggleable__label-arrow:before {content: \"▾\";}#sk-container-id-1 div.sk-estimator input.sk-toggleable__control:checked~label.sk-toggleable__label {background-color: #d4ebff;}#sk-container-id-1 div.sk-label input.sk-toggleable__control:checked~label.sk-toggleable__label {background-color: #d4ebff;}#sk-container-id-1 input.sk-hidden--visually {border: 0;clip: rect(1px 1px 1px 1px);clip: rect(1px, 1px, 1px, 1px);height: 1px;margin: -1px;overflow: hidden;padding: 0;position: absolute;width: 1px;}#sk-container-id-1 div.sk-estimator {font-family: monospace;background-color: #f0f8ff;border: 1px dotted black;border-radius: 0.25em;box-sizing: border-box;margin-bottom: 0.5em;}#sk-container-id-1 div.sk-estimator:hover {background-color: #d4ebff;}#sk-container-id-1 div.sk-parallel-item::after {content: \"\";width: 100%;border-bottom: 1px solid gray;flex-grow: 1;}#sk-container-id-1 div.sk-label:hover label.sk-toggleable__label {background-color: #d4ebff;}#sk-container-id-1 div.sk-serial::before {content: \"\";position: absolute;border-left: 1px solid gray;box-sizing: border-box;top: 0;bottom: 0;left: 50%;z-index: 0;}#sk-container-id-1 div.sk-serial {display: flex;flex-direction: column;align-items: center;background-color: white;padding-right: 0.2em;padding-left: 0.2em;position: relative;}#sk-container-id-1 div.sk-item {position: relative;z-index: 1;}#sk-container-id-1 div.sk-parallel {display: flex;align-items: stretch;justify-content: center;background-color: white;position: relative;}#sk-container-id-1 div.sk-item::before, #sk-container-id-1 div.sk-parallel-item::before {content: \"\";position: absolute;border-left: 1px solid gray;box-sizing: border-box;top: 0;bottom: 0;left: 50%;z-index: -1;}#sk-container-id-1 div.sk-parallel-item {display: flex;flex-direction: column;z-index: 1;position: relative;background-color: white;}#sk-container-id-1 div.sk-parallel-item:first-child::after {align-self: flex-end;width: 50%;}#sk-container-id-1 div.sk-parallel-item:last-child::after {align-self: flex-start;width: 50%;}#sk-container-id-1 div.sk-parallel-item:only-child::after {width: 0;}#sk-container-id-1 div.sk-dashed-wrapped {border: 1px dashed gray;margin: 0 0.4em 0.5em 0.4em;box-sizing: border-box;padding-bottom: 0.4em;background-color: white;}#sk-container-id-1 div.sk-label label {font-family: monospace;font-weight: bold;display: inline-block;line-height: 1.2em;}#sk-container-id-1 div.sk-label-container {text-align: center;}#sk-container-id-1 div.sk-container {/* jupyter's `normalize.less` sets `[hidden] { display: none; }` but bootstrap.min.css set `[hidden] { display: none !important; }` so we also need the `!important` here to be able to override the default hidden behavior on the sphinx rendered scikit-learn.org. See: https://github.com/scikit-learn/scikit-learn/issues/21755 */display: inline-block !important;position: relative;}#sk-container-id-1 div.sk-text-repr-fallback {display: none;}</style><div id=\"sk-container-id-1\" class=\"sk-top-container\"><div class=\"sk-text-repr-fallback\"><pre>GridSearchCV(cv=5, estimator=LinearRegression(),\n",
       "             param_grid={&#x27;fit_intercept&#x27;: [True, False],\n",
       "                         &#x27;positive&#x27;: [True, False]},\n",
       "             verbose=3)</pre><b>In a Jupyter environment, please rerun this cell to show the HTML representation or trust the notebook. <br />On GitHub, the HTML representation is unable to render, please try loading this page with nbviewer.org.</b></div><div class=\"sk-container\" hidden><div class=\"sk-item sk-dashed-wrapped\"><div class=\"sk-label-container\"><div class=\"sk-label sk-toggleable\"><input class=\"sk-toggleable__control sk-hidden--visually\" id=\"sk-estimator-id-1\" type=\"checkbox\" ><label for=\"sk-estimator-id-1\" class=\"sk-toggleable__label sk-toggleable__label-arrow\">GridSearchCV</label><div class=\"sk-toggleable__content\"><pre>GridSearchCV(cv=5, estimator=LinearRegression(),\n",
       "             param_grid={&#x27;fit_intercept&#x27;: [True, False],\n",
       "                         &#x27;positive&#x27;: [True, False]},\n",
       "             verbose=3)</pre></div></div></div><div class=\"sk-parallel\"><div class=\"sk-parallel-item\"><div class=\"sk-item\"><div class=\"sk-label-container\"><div class=\"sk-label sk-toggleable\"><input class=\"sk-toggleable__control sk-hidden--visually\" id=\"sk-estimator-id-2\" type=\"checkbox\" ><label for=\"sk-estimator-id-2\" class=\"sk-toggleable__label sk-toggleable__label-arrow\">estimator: LinearRegression</label><div class=\"sk-toggleable__content\"><pre>LinearRegression()</pre></div></div></div><div class=\"sk-serial\"><div class=\"sk-item\"><div class=\"sk-estimator sk-toggleable\"><input class=\"sk-toggleable__control sk-hidden--visually\" id=\"sk-estimator-id-3\" type=\"checkbox\" ><label for=\"sk-estimator-id-3\" class=\"sk-toggleable__label sk-toggleable__label-arrow\">LinearRegression</label><div class=\"sk-toggleable__content\"><pre>LinearRegression()</pre></div></div></div></div></div></div></div></div></div></div>"
      ],
      "text/plain": [
       "GridSearchCV(cv=5, estimator=LinearRegression(),\n",
       "             param_grid={'fit_intercept': [True, False],\n",
       "                         'positive': [True, False]},\n",
       "             verbose=3)"
      ]
     },
     "execution_count": 10,
     "metadata": {},
     "output_type": "execute_result"
    }
   ],
   "source": [
    "# Perform grid search with cross-validation\n",
    "grid_search = GridSearchCV(model, param_grid, cv=5, verbose=3)\n",
    "grid_search.fit(X_train, y_train)"
   ]
  },
  {
   "cell_type": "code",
   "execution_count": 11,
   "id": "d909230e",
   "metadata": {
    "tags": []
   },
   "outputs": [],
   "source": [
    "# Get the best model\n",
    "best_model = grid_search.best_estimator_"
   ]
  },
  {
   "cell_type": "code",
   "execution_count": 12,
   "id": "1dc32a61",
   "metadata": {
    "tags": []
   },
   "outputs": [],
   "source": [
    "# Generate predictions on the test set using the best model\n",
    "y_pred = best_model.predict(X_test)"
   ]
  },
  {
   "cell_type": "code",
   "execution_count": 13,
   "id": "1252a34d",
   "metadata": {
    "tags": []
   },
   "outputs": [],
   "source": [
    "# Calculate the mean squared error\n",
    "mse = mean_squared_error(y_test, y_pred)"
   ]
  },
  {
   "cell_type": "code",
   "execution_count": 14,
   "id": "0f5bd776",
   "metadata": {
    "tags": []
   },
   "outputs": [
    {
     "name": "stdout",
     "output_type": "stream",
     "text": [
      "Best Hyperparameters: {'fit_intercept': False, 'positive': True}\n",
      "Mean Squared Error: 0.04210298183421305\n"
     ]
    }
   ],
   "source": [
    "# Print the best hyperparameters and the mean squared error\n",
    "print(\"Best Hyperparameters:\", grid_search.best_params_)\n",
    "print(\"Mean Squared Error:\", mse)"
   ]
  },
  {
   "cell_type": "code",
   "execution_count": null,
   "id": "f05e231f",
   "metadata": {},
   "outputs": [],
   "source": []
  }
 ],
 "metadata": {
  "kernelspec": {
   "display_name": "Python 3 (ipykernel)",
   "language": "python",
   "name": "python3"
  },
  "language_info": {
   "codemirror_mode": {
    "name": "ipython",
    "version": 3
   },
   "file_extension": ".py",
   "mimetype": "text/x-python",
   "name": "python",
   "nbconvert_exporter": "python",
   "pygments_lexer": "ipython3",
   "version": "3.11.5"
  }
 },
 "nbformat": 4,
 "nbformat_minor": 5
}
